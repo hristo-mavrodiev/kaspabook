{
 "cells": [
  {
   "cell_type": "code",
   "execution_count": 1,
   "id": "3ec2550f",
   "metadata": {},
   "outputs": [],
   "source": [
    "import pandas as pd\n",
    "from kaspabook.mexc_orderbook import MEXCOrderbook\n",
    "from kaspabook.txbit_orderbook import TxbitOrderbook\n",
    "import plotly.graph_objects as go\n",
    "from plotly.subplots import make_subplots\n",
    "import plotly.express as px"
   ]
  },
  {
   "cell_type": "code",
   "execution_count": 2,
   "id": "669d028e",
   "metadata": {},
   "outputs": [],
   "source": [
    "    mexc_df = MEXCOrderbook(\"KAS/USDT\").get_depth_df()\n",
    "    txbit_df = TxbitOrderbook(\"KAS/USDT\").get_depth_df()"
   ]
  },
  {
   "cell_type": "code",
   "execution_count": 12,
   "id": "02b1f8ce",
   "metadata": {},
   "outputs": [
    {
     "data": {
      "text/plain": [
       "[{'Quantity': 0.0087, 'Rate': 0.01178},\n",
       " {'Quantity': 136311.7594, 'Rate': 0.01161127},\n",
       " {'Quantity': 3155.8519, 'Rate': 0.01161126},\n",
       " {'Quantity': 51258.8036, 'Rate': 0.01161},\n",
       " {'Quantity': 229.176, 'Rate': 0.01160085},\n",
       " {'Quantity': 2756.8756, 'Rate': 0.0116},\n",
       " {'Quantity': 30723.1154, 'Rate': 0.01151001},\n",
       " {'Quantity': 6961.9408, 'Rate': 0.0115},\n",
       " {'Quantity': 339.7298, 'Rate': 0.01149904},\n",
       " {'Quantity': 100105.2599, 'Rate': 0.01149655},\n",
       " {'Quantity': 2104.0, 'Rate': 0.01149654},\n",
       " {'Quantity': 51525.2843, 'Rate': 0.01126},\n",
       " {'Quantity': 1015.7576, 'Rate': 0.0112523},\n",
       " {'Quantity': 786.7038, 'Rate': 0.01125111},\n",
       " {'Quantity': 44936.7116, 'Rate': 0.01125},\n",
       " {'Quantity': 7000.0, 'Rate': 0.0112},\n",
       " {'Quantity': 63702.5117, 'Rate': 0.01117},\n",
       " {'Quantity': 1764.041, 'Rate': 0.01112959},\n",
       " {'Quantity': 142.88, 'Rate': 0.01111113},\n",
       " {'Quantity': 4500.0, 'Rate': 0.01110001},\n",
       " {'Quantity': 5984.9288, 'Rate': 0.0111},\n",
       " {'Quantity': 83136.7048, 'Rate': 0.011},\n",
       " {'Quantity': 132798.759, 'Rate': 0.01085},\n",
       " {'Quantity': 1809.7482, 'Rate': 0.010709},\n",
       " {'Quantity': 26463.372, 'Rate': 0.010575},\n",
       " {'Quantity': 56442.7886, 'Rate': 0.01055677},\n",
       " {'Quantity': 22.0, 'Rate': 0.01051},\n",
       " {'Quantity': 24809.9551, 'Rate': 0.0105},\n",
       " {'Quantity': 51572.334, 'Rate': 0.0104},\n",
       " {'Quantity': 65826.6967, 'Rate': 0.0103},\n",
       " {'Quantity': 77582.8584, 'Rate': 0.01025},\n",
       " {'Quantity': 1916.9442, 'Rate': 0.01011019},\n",
       " {'Quantity': 43344.8086, 'Rate': 0.01011},\n",
       " {'Quantity': 6604.2877, 'Rate': 0.01010004},\n",
       " {'Quantity': 10000.0, 'Rate': 0.01001},\n",
       " {'Quantity': 19644.8187, 'Rate': 0.01000001},\n",
       " {'Quantity': 275367.1383, 'Rate': 0.01},\n",
       " {'Quantity': 10112.3002, 'Rate': 0.0099},\n",
       " {'Quantity': 51781.0394, 'Rate': 0.00981},\n",
       " {'Quantity': 1858.5269, 'Rate': 0.0098},\n",
       " {'Quantity': 54486.876, 'Rate': 0.00965},\n",
       " {'Quantity': 27.0, 'Rate': 0.00951},\n",
       " {'Quantity': 36788.4746, 'Rate': 0.0095},\n",
       " {'Quantity': 42489.8663, 'Rate': 0.00948},\n",
       " {'Quantity': 1000.8106, 'Rate': 0.00947},\n",
       " {'Quantity': 3301.2973, 'Rate': 0.0094},\n",
       " {'Quantity': 2310.8558, 'Rate': 0.0093553},\n",
       " {'Quantity': 209850.4698, 'Rate': 0.0093},\n",
       " {'Quantity': 1000.0, 'Rate': 0.00927},\n",
       " {'Quantity': 600.0, 'Rate': 0.00925001},\n",
       " {'Quantity': 4996.8288, 'Rate': 0.00924749},\n",
       " {'Quantity': 206.0, 'Rate': 0.00921},\n",
       " {'Quantity': 3000.0, 'Rate': 0.0092001},\n",
       " {'Quantity': 72018.9244, 'Rate': 0.0092},\n",
       " {'Quantity': 30548.1637, 'Rate': 0.00918},\n",
       " {'Quantity': 11037.5924, 'Rate': 0.00913},\n",
       " {'Quantity': 110122.8361, 'Rate': 0.009122},\n",
       " {'Quantity': 5000.0, 'Rate': 0.00912},\n",
       " {'Quantity': 120930.9523, 'Rate': 0.0091},\n",
       " {'Quantity': 38741.6812, 'Rate': 0.00909},\n",
       " {'Quantity': 5533.0055, 'Rate': 0.00903668},\n",
       " {'Quantity': 500.0, 'Rate': 0.009001},\n",
       " {'Quantity': 18052.0707, 'Rate': 0.00900002},\n",
       " {'Quantity': 650.0, 'Rate': 0.00900001},\n",
       " {'Quantity': 534146.5022, 'Rate': 0.009},\n",
       " {'Quantity': 28484.2479, 'Rate': 0.00898},\n",
       " {'Quantity': 111087.6696, 'Rate': 0.00895},\n",
       " {'Quantity': 100.0, 'Rate': 0.00893511},\n",
       " {'Quantity': 342.7425, 'Rate': 0.00891402},\n",
       " {'Quantity': 18964.96, 'Rate': 0.0089},\n",
       " {'Quantity': 2000.0, 'Rate': 0.00885},\n",
       " {'Quantity': 115.0, 'Rate': 0.0088},\n",
       " {'Quantity': 44055.7384, 'Rate': 0.00878},\n",
       " {'Quantity': 49816.9423, 'Rate': 0.008757},\n",
       " {'Quantity': 700.0, 'Rate': 0.00875001},\n",
       " {'Quantity': 24316.0207, 'Rate': 0.0087},\n",
       " {'Quantity': 42132.5273, 'Rate': 0.00868},\n",
       " {'Quantity': 140593.9547, 'Rate': 0.0086722},\n",
       " {'Quantity': 2323.6449, 'Rate': 0.00863999},\n",
       " {'Quantity': 4078.0666, 'Rate': 0.00862},\n",
       " {'Quantity': 412394.8498, 'Rate': 0.0086},\n",
       " {'Quantity': 250.0, 'Rate': 0.00856929},\n",
       " {'Quantity': 750.0, 'Rate': 0.00850001},\n",
       " {'Quantity': 77120.0, 'Rate': 0.0085},\n",
       " {'Quantity': 250.0, 'Rate': 0.00841},\n",
       " {'Quantity': 74116.5534, 'Rate': 0.0084},\n",
       " {'Quantity': 48538.7451, 'Rate': 0.008388},\n",
       " {'Quantity': 5000.0, 'Rate': 0.00838},\n",
       " {'Quantity': 64747.0496, 'Rate': 0.00833333},\n",
       " {'Quantity': 250.0, 'Rate': 0.00831001},\n",
       " {'Quantity': 7900.5807, 'Rate': 0.0083012},\n",
       " {'Quantity': 125.0, 'Rate': 0.0083},\n",
       " {'Quantity': 3000.0, 'Rate': 0.00828},\n",
       " {'Quantity': 661.6839, 'Rate': 0.00827001},\n",
       " {'Quantity': 1000.0, 'Rate': 0.00825001},\n",
       " {'Quantity': 5379.2951, 'Rate': 0.00824749},\n",
       " {'Quantity': 250.0, 'Rate': 0.00821001},\n",
       " {'Quantity': 705.5336, 'Rate': 0.008201},\n",
       " {'Quantity': 1536.3657, 'Rate': 0.0082001},\n",
       " {'Quantity': 22033.1805, 'Rate': 0.0082},\n",
       " {'Quantity': 6667.4817, 'Rate': 0.00818},\n",
       " {'Quantity': 273.763, 'Rate': 0.00815583},\n",
       " {'Quantity': 71476.6597, 'Rate': 0.00815},\n",
       " {'Quantity': 95300.0821, 'Rate': 0.00812},\n",
       " {'Quantity': 500.0, 'Rate': 0.00811001},\n",
       " {'Quantity': 28401.6468, 'Rate': 0.0081},\n",
       " {'Quantity': 2000.0, 'Rate': 0.00808},\n",
       " {'Quantity': 500.0, 'Rate': 0.00807001},\n",
       " {'Quantity': 1682.0287, 'Rate': 0.00804499},\n",
       " {'Quantity': 1250.0, 'Rate': 0.00800001},\n",
       " {'Quantity': 3081537.0794, 'Rate': 0.008},\n",
       " {'Quantity': 250.0, 'Rate': 0.00797001},\n",
       " {'Quantity': 50000.0, 'Rate': 0.007959},\n",
       " {'Quantity': 240300.6428, 'Rate': 0.0079},\n",
       " {'Quantity': 71054.948, 'Rate': 0.00788},\n",
       " {'Quantity': 250.0, 'Rate': 0.00787001},\n",
       " {'Quantity': 26616.5896, 'Rate': 0.0078},\n",
       " {'Quantity': 477.5506, 'Rate': 0.0077914},\n",
       " {'Quantity': 250.0, 'Rate': 0.00777001},\n",
       " {'Quantity': 1500.0, 'Rate': 0.00775001},\n",
       " {'Quantity': 6725.5726, 'Rate': 0.0077},\n",
       " {'Quantity': 6000.0, 'Rate': 0.00768},\n",
       " {'Quantity': 250.0, 'Rate': 0.00767001},\n",
       " {'Quantity': 6909.5311, 'Rate': 0.0076111},\n",
       " {'Quantity': 140546.0335, 'Rate': 0.0076},\n",
       " {'Quantity': 500.0, 'Rate': 0.00757001},\n",
       " {'Quantity': 20000.0, 'Rate': 0.00751},\n",
       " {'Quantity': 1750.0, 'Rate': 0.00750001},\n",
       " {'Quantity': 127101.9794, 'Rate': 0.0075},\n",
       " {'Quantity': 250.0, 'Rate': 0.00747001},\n",
       " {'Quantity': 15358.5179, 'Rate': 0.00745},\n",
       " {'Quantity': 135.0, 'Rate': 0.0074},\n",
       " {'Quantity': 250.0, 'Rate': 0.00737001},\n",
       " {'Quantity': 18776.4969, 'Rate': 0.0073},\n",
       " {'Quantity': 33159.7338, 'Rate': 0.007299},\n",
       " {'Quantity': 4000.0, 'Rate': 0.00728},\n",
       " {'Quantity': 250.0, 'Rate': 0.00727001},\n",
       " {'Quantity': 75148.0171, 'Rate': 0.007257},\n",
       " {'Quantity': 2000.0, 'Rate': 0.00725001},\n",
       " {'Quantity': 870.1132, 'Rate': 0.00722112},\n",
       " {'Quantity': 153348.511, 'Rate': 0.0072},\n",
       " {'Quantity': 250.0, 'Rate': 0.00717001},\n",
       " {'Quantity': 2019.3035, 'Rate': 0.00714},\n",
       " {'Quantity': 818.2894, 'Rate': 0.00712028},\n",
       " {'Quantity': 3255.3288, 'Rate': 0.00711111},\n",
       " {'Quantity': 74473.2103, 'Rate': 0.0071},\n",
       " {'Quantity': 250.0, 'Rate': 0.00707001},\n",
       " {'Quantity': 2154.0884, 'Rate': 0.00704011},\n",
       " {'Quantity': 106.0, 'Rate': 0.007001},\n",
       " {'Quantity': 2500.0, 'Rate': 0.00700001},\n",
       " {'Quantity': 1040254.7381, 'Rate': 0.007},\n",
       " {'Quantity': 17909.6435, 'Rate': 0.00698},\n",
       " {'Quantity': 164480.012, 'Rate': 0.00692587},\n",
       " {'Quantity': 1.0, 'Rate': 0.0069229},\n",
       " {'Quantity': 4685.12, 'Rate': 0.0069},\n",
       " {'Quantity': 2000.0, 'Rate': 0.00688},\n",
       " {'Quantity': 1.1257, 'Rate': 0.00682001},\n",
       " {'Quantity': 33.0, 'Rate': 0.00682},\n",
       " {'Quantity': 4373.0, 'Rate': 0.0068},\n",
       " {'Quantity': 1874.186, 'Rate': 0.006752},\n",
       " {'Quantity': 3000.0, 'Rate': 0.00675001},\n",
       " {'Quantity': 1000.0, 'Rate': 0.00675},\n",
       " {'Quantity': 1056.0, 'Rate': 0.0067},\n",
       " {'Quantity': 2000.0, 'Rate': 0.00668},\n",
       " {'Quantity': 4814.1073, 'Rate': 0.00665875},\n",
       " {'Quantity': 4049.8565, 'Rate': 0.00665},\n",
       " {'Quantity': 2000.0, 'Rate': 0.00664686},\n",
       " {'Quantity': 700.0, 'Rate': 0.00661545},\n",
       " {'Quantity': 48.0, 'Rate': 0.0066001},\n",
       " {'Quantity': 102381.2932, 'Rate': 0.0066},\n",
       " {'Quantity': 2078.985, 'Rate': 0.00655},\n",
       " {'Quantity': 4000.0, 'Rate': 0.00650001},\n",
       " {'Quantity': 2968.9796, 'Rate': 0.0065},\n",
       " {'Quantity': 2000.0, 'Rate': 0.00648},\n",
       " {'Quantity': 2131.6748, 'Rate': 0.00645},\n",
       " {'Quantity': 7306.0136, 'Rate': 0.00641},\n",
       " {'Quantity': 90.0, 'Rate': 0.006401},\n",
       " {'Quantity': 22583.1341, 'Rate': 0.0064},\n",
       " {'Quantity': 5050.0, 'Rate': 0.006388},\n",
       " {'Quantity': 16023.8187, 'Rate': 0.00634},\n",
       " {'Quantity': 100.0, 'Rate': 0.00630111},\n",
       " {'Quantity': 5139.1506, 'Rate': 0.0063006},\n",
       " {'Quantity': 44685.0931, 'Rate': 0.0063},\n",
       " {'Quantity': 113.8158, 'Rate': 0.006291},\n",
       " {'Quantity': 2000.0, 'Rate': 0.00628},\n",
       " {'Quantity': 754.475, 'Rate': 0.00625405},\n",
       " {'Quantity': 1217.117, 'Rate': 0.00622112},\n",
       " {'Quantity': 22094.6371, 'Rate': 0.00621},\n",
       " {'Quantity': 125.0, 'Rate': 0.0062001},\n",
       " {'Quantity': 9036.2538, 'Rate': 0.0062},\n",
       " {'Quantity': 1183825.7546, 'Rate': 0.00618},\n",
       " {'Quantity': 5574.9218, 'Rate': 0.00615},\n",
       " {'Quantity': 6051.4041, 'Rate': 0.00614},\n",
       " {'Quantity': 2310.4779, 'Rate': 0.00613},\n",
       " {'Quantity': 2167.7734, 'Rate': 0.00612},\n",
       " {'Quantity': 49874.5178, 'Rate': 0.0061},\n",
       " {'Quantity': 0.9087, 'Rate': 0.0060672},\n",
       " {'Quantity': 2445.3755, 'Rate': 0.00605},\n",
       " {'Quantity': 221178.0582, 'Rate': 0.006},\n",
       " {'Quantity': 12670.0, 'Rate': 0.0059},\n",
       " {'Quantity': 5000.0, 'Rate': 0.00588},\n",
       " {'Quantity': 22047.2763, 'Rate': 0.0058},\n",
       " {'Quantity': 5000.0, 'Rate': 0.00577},\n",
       " {'Quantity': 2000.0, 'Rate': 0.00574},\n",
       " {'Quantity': 15736.4811, 'Rate': 0.0057},\n",
       " {'Quantity': 400.0, 'Rate': 0.00561111},\n",
       " {'Quantity': 2634.5069, 'Rate': 0.0056},\n",
       " {'Quantity': 10802.3836, 'Rate': 0.00550001},\n",
       " {'Quantity': 152002.8356, 'Rate': 0.0055},\n",
       " {'Quantity': 43858.1099, 'Rate': 0.0054},\n",
       " {'Quantity': 2000.0, 'Rate': 0.00536698},\n",
       " {'Quantity': 837.6023, 'Rate': 0.0053},\n",
       " {'Quantity': 12491.3645, 'Rate': 0.00525},\n",
       " {'Quantity': 500.0, 'Rate': 0.00524725},\n",
       " {'Quantity': 169815.733, 'Rate': 0.0052},\n",
       " {'Quantity': 2000.0, 'Rate': 0.005188},\n",
       " {'Quantity': 4000.0, 'Rate': 0.00518},\n",
       " {'Quantity': 1341690.3108, 'Rate': 0.00516701},\n",
       " {'Quantity': 3033720.7801, 'Rate': 0.005135},\n",
       " {'Quantity': 1951.8716, 'Rate': 0.00512612},\n",
       " {'Quantity': 10000.0, 'Rate': 0.00512},\n",
       " {'Quantity': 150000.0, 'Rate': 0.0051},\n",
       " {'Quantity': 350.0, 'Rate': 0.00507501},\n",
       " {'Quantity': 233443.1525, 'Rate': 0.00505111},\n",
       " {'Quantity': 53122.1466, 'Rate': 0.00500001},\n",
       " {'Quantity': 291091.0252, 'Rate': 0.005},\n",
       " {'Quantity': 205.0, 'Rate': 0.0049},\n",
       " {'Quantity': 4394.0836, 'Rate': 0.00488},\n",
       " {'Quantity': 2388.7302, 'Rate': 0.00485},\n",
       " {'Quantity': 25581.2599, 'Rate': 0.00482},\n",
       " {'Quantity': 629963.7922, 'Rate': 0.0048},\n",
       " {'Quantity': 79081.7663, 'Rate': 0.0047},\n",
       " {'Quantity': 1067.211, 'Rate': 0.00461626},\n",
       " {'Quantity': 140000.0, 'Rate': 0.0046},\n",
       " {'Quantity': 178909.7579, 'Rate': 0.00451797},\n",
       " {'Quantity': 42368.1949, 'Rate': 0.0045},\n",
       " {'Quantity': 2782.4495, 'Rate': 0.00448},\n",
       " {'Quantity': 4484.6111, 'Rate': 0.00445025},\n",
       " {'Quantity': 1248.9514, 'Rate': 0.00444571},\n",
       " {'Quantity': 22568.4993, 'Rate': 0.0044},\n",
       " {'Quantity': 1261.3481, 'Rate': 0.00434571},\n",
       " {'Quantity': 10638.9439, 'Rate': 0.0043},\n",
       " {'Quantity': 1158.8385, 'Rate': 0.00425126},\n",
       " {'Quantity': 1355.6343, 'Rate': 0.00424571},\n",
       " {'Quantity': 2590.1067, 'Rate': 0.00423},\n",
       " {'Quantity': 976015.2322, 'Rate': 0.0042},\n",
       " {'Quantity': 5000.0, 'Rate': 0.00412},\n",
       " {'Quantity': 76083.106, 'Rate': 0.0041},\n",
       " {'Quantity': 8950.3574, 'Rate': 0.00401},\n",
       " {'Quantity': 10928.5968, 'Rate': 0.004002},\n",
       " {'Quantity': 13421.0945, 'Rate': 0.0040001},\n",
       " {'Quantity': 1167215.7133, 'Rate': 0.004},\n",
       " {'Quantity': 256.6901, 'Rate': 0.0039},\n",
       " {'Quantity': 13825.1523, 'Rate': 0.00389006},\n",
       " {'Quantity': 1200.0, 'Rate': 0.00387},\n",
       " {'Quantity': 4004.7752, 'Rate': 0.00380009},\n",
       " {'Quantity': 4004.9593, 'Rate': 0.0037999},\n",
       " {'Quantity': 167300.3299, 'Rate': 0.00375},\n",
       " {'Quantity': 8130.5517, 'Rate': 0.0037231},\n",
       " {'Quantity': 3628.433, 'Rate': 0.00372},\n",
       " {'Quantity': 198395.702, 'Rate': 0.0037},\n",
       " {'Quantity': 1518.4342, 'Rate': 0.00362612},\n",
       " {'Quantity': 500000.0, 'Rate': 0.00361},\n",
       " {'Quantity': 10000.0, 'Rate': 0.0036},\n",
       " {'Quantity': 5221.5734, 'Rate': 0.00359876},\n",
       " {'Quantity': 500000.0, 'Rate': 0.00351},\n",
       " {'Quantity': 79346.2952, 'Rate': 0.00350001},\n",
       " {'Quantity': 204626.4707, 'Rate': 0.0035},\n",
       " {'Quantity': 30000.0, 'Rate': 0.0033},\n",
       " {'Quantity': 500000.0, 'Rate': 0.00325},\n",
       " {'Quantity': 22793.5003, 'Rate': 0.0032},\n",
       " {'Quantity': 5000.0, 'Rate': 0.00312},\n",
       " {'Quantity': 25000.0, 'Rate': 0.00311},\n",
       " {'Quantity': 20000.0, 'Rate': 0.0031},\n",
       " {'Quantity': 1334.3036, 'Rate': 0.003001},\n",
       " {'Quantity': 13684.8534, 'Rate': 0.003},\n",
       " {'Quantity': 346.4892, 'Rate': 0.0029},\n",
       " {'Quantity': 569900.6744, 'Rate': 0.00285},\n",
       " {'Quantity': 259884.6184, 'Rate': 0.0028},\n",
       " {'Quantity': 1260272.9431, 'Rate': 0.002755},\n",
       " {'Quantity': 107173.9864, 'Rate': 0.0027},\n",
       " {'Quantity': 30000.0, 'Rate': 0.0026},\n",
       " {'Quantity': 17391.6883, 'Rate': 0.0025},\n",
       " {'Quantity': 6431.1078, 'Rate': 0.00235},\n",
       " {'Quantity': 3728.5571, 'Rate': 0.0023132},\n",
       " {'Quantity': 10000.0, 'Rate': 0.0023},\n",
       " {'Quantity': 1446.8647, 'Rate': 0.002123},\n",
       " {'Quantity': 18688.405, 'Rate': 0.00212},\n",
       " {'Quantity': 250521.7174, 'Rate': 0.0021},\n",
       " {'Quantity': 635931.6581, 'Rate': 0.002},\n",
       " {'Quantity': 1528.5586, 'Rate': 0.0019},\n",
       " {'Quantity': 685005.612, 'Rate': 0.00186},\n",
       " {'Quantity': 57878.7265, 'Rate': 0.0017},\n",
       " {'Quantity': 443513.9621, 'Rate': 0.0015},\n",
       " {'Quantity': 40261.1779, 'Rate': 0.0013},\n",
       " {'Quantity': 138877.9439, 'Rate': 0.00125},\n",
       " {'Quantity': 5000.0, 'Rate': 0.00122725},\n",
       " {'Quantity': 5000.0, 'Rate': 0.00121725},\n",
       " {'Quantity': 20000.0, 'Rate': 0.00121002},\n",
       " {'Quantity': 5000.0, 'Rate': 0.00121},\n",
       " {'Quantity': 5000.0, 'Rate': 0.00120725},\n",
       " {'Quantity': 1000.0, 'Rate': 0.00120123},\n",
       " {'Quantity': 8966.2495, 'Rate': 0.0012},\n",
       " {'Quantity': 5000.0, 'Rate': 0.00119725},\n",
       " {'Quantity': 5000.0, 'Rate': 0.00118725},\n",
       " {'Quantity': 5000.0, 'Rate': 0.00117725},\n",
       " {'Quantity': 5000.0, 'Rate': 0.00116725},\n",
       " {'Quantity': 5000.0, 'Rate': 0.00115725},\n",
       " {'Quantity': 5000.0, 'Rate': 0.00114725},\n",
       " {'Quantity': 5000.0, 'Rate': 0.00113725},\n",
       " {'Quantity': 5000.0, 'Rate': 0.00112725},\n",
       " {'Quantity': 5000.0, 'Rate': 0.00111725},\n",
       " {'Quantity': 5000.0, 'Rate': 0.00110725},\n",
       " {'Quantity': 209030.8235, 'Rate': 0.001},\n",
       " {'Quantity': 2796.9174, 'Rate': 0.000971},\n",
       " {'Quantity': 21068.8888, 'Rate': 0.0009},\n",
       " {'Quantity': 318.1989, 'Rate': 0.0007672},\n",
       " {'Quantity': 768837.2883, 'Rate': 0.00076},\n",
       " {'Quantity': 109529.0436, 'Rate': 0.00075},\n",
       " {'Quantity': 69.4347, 'Rate': 0.000728},\n",
       " {'Quantity': 91550.0, 'Rate': 0.00071},\n",
       " {'Quantity': 46639.8634, 'Rate': 0.0007},\n",
       " {'Quantity': 186042.4845, 'Rate': 0.000611},\n",
       " {'Quantity': 29468.2319, 'Rate': 0.0006},\n",
       " {'Quantity': 20000.0, 'Rate': 0.000502},\n",
       " {'Quantity': 113860.1795, 'Rate': 0.0005},\n",
       " {'Quantity': 27861.0045, 'Rate': 0.00049},\n",
       " {'Quantity': 25000.0, 'Rate': 0.000402},\n",
       " {'Quantity': 80645.0, 'Rate': 0.00031},\n",
       " {'Quantity': 667.0, 'Rate': 0.0003},\n",
       " {'Quantity': 119050.0, 'Rate': 0.00021},\n",
       " {'Quantity': 5000.0, 'Rate': 0.0002},\n",
       " {'Quantity': 7405543.948, 'Rate': 0.00015},\n",
       " {'Quantity': 227270.0, 'Rate': 0.00011},\n",
       " {'Quantity': 11138292.7478, 'Rate': 0.0001},\n",
       " {'Quantity': 21665.5449, 'Rate': 6.5e-05},\n",
       " {'Quantity': 465882.5125, 'Rate': 6.413e-05},\n",
       " {'Quantity': 4000.0, 'Rate': 5e-05},\n",
       " {'Quantity': 1250.0, 'Rate': 4e-05},\n",
       " {'Quantity': 7000.0, 'Rate': 3e-05},\n",
       " {'Quantity': 50000.0, 'Rate': 2e-05},\n",
       " {'Quantity': 101119.724, 'Rate': 1e-05},\n",
       " {'Quantity': 154390.9516, 'Rate': 6.5e-06},\n",
       " {'Quantity': 40000.0, 'Rate': 5e-06},\n",
       " {'Quantity': 500000.0, 'Rate': 4.5e-06},\n",
       " {'Quantity': 70000.0, 'Rate': 3e-06},\n",
       " {'Quantity': 1000000.0, 'Rate': 2.5e-06},\n",
       " {'Quantity': 500000.0, 'Rate': 2e-06},\n",
       " {'Quantity': 1010000.0, 'Rate': 1e-06},\n",
       " {'Quantity': 5000000.0, 'Rate': 4.5e-07},\n",
       " {'Quantity': 5000000.0, 'Rate': 2e-07},\n",
       " {'Quantity': 10100000.0, 'Rate': 1e-07},\n",
       " {'Quantity': 20000000.0, 'Rate': 5e-08},\n",
       " {'Quantity': 50000000.0, 'Rate': 2e-08},\n",
       " {'Quantity': 100050000.0, 'Rate': 1e-08}]"
      ]
     },
     "execution_count": 12,
     "metadata": {},
     "output_type": "execute_result"
    }
   ],
   "source": [
    "q = TxbitOrderbook(\"KAS/USDT\")\n",
    "q.fetch_data()\n",
    "q.result_json['result']['buy']"
   ]
  },
  {
   "cell_type": "code",
   "execution_count": null,
   "id": "8d8134fd",
   "metadata": {},
   "outputs": [],
   "source": [
    "    txbit_df = df.copy(deep=True)\n",
    "    if accumulated:\n",
    "        c_asks = q.result_json['result']['buy']['Quantity'][::-1].cumsum()\n",
    "        c_bids = q.result_json['result']['sell']['Quantity'].cumsum()\n",
    "        cumulated = pd.concat([c_asks, c_bids])\n",
    "        ob.loc[:, 'Accumulated Quantity'] = cumulated\n",
    "        plot_y = 'Accumulated Quantity'\n",
    "\n",
    "    fig = px.line(ob, x=\"Price\", y=plot_y, color='Side', height=height, title=title, **kwargs)\n",
    "    fig.show()"
   ]
  },
  {
   "cell_type": "code",
   "execution_count": 19,
   "id": "21ad3b29",
   "metadata": {},
   "outputs": [
    {
     "data": {
      "text/html": [
       "<div>\n",
       "<style scoped>\n",
       "    .dataframe tbody tr th:only-of-type {\n",
       "        vertical-align: middle;\n",
       "    }\n",
       "\n",
       "    .dataframe tbody tr th {\n",
       "        vertical-align: top;\n",
       "    }\n",
       "\n",
       "    .dataframe thead th {\n",
       "        text-align: right;\n",
       "    }\n",
       "</style>\n",
       "<table border=\"1\" class=\"dataframe\">\n",
       "  <thead>\n",
       "    <tr style=\"text-align: right;\">\n",
       "      <th></th>\n",
       "      <th>Quantity</th>\n",
       "      <th>Rate</th>\n",
       "      <th>side</th>\n",
       "    </tr>\n",
       "  </thead>\n",
       "  <tbody>\n",
       "    <tr>\n",
       "      <th>0</th>\n",
       "      <td>8.700000e-03</td>\n",
       "      <td>1.178000e-02</td>\n",
       "      <td>buy</td>\n",
       "    </tr>\n",
       "    <tr>\n",
       "      <th>1</th>\n",
       "      <td>1.363118e+05</td>\n",
       "      <td>1.161127e-02</td>\n",
       "      <td>buy</td>\n",
       "    </tr>\n",
       "    <tr>\n",
       "      <th>2</th>\n",
       "      <td>3.155852e+03</td>\n",
       "      <td>1.161126e-02</td>\n",
       "      <td>buy</td>\n",
       "    </tr>\n",
       "    <tr>\n",
       "      <th>3</th>\n",
       "      <td>5.125880e+04</td>\n",
       "      <td>1.161000e-02</td>\n",
       "      <td>buy</td>\n",
       "    </tr>\n",
       "    <tr>\n",
       "      <th>4</th>\n",
       "      <td>2.291760e+02</td>\n",
       "      <td>1.160085e-02</td>\n",
       "      <td>buy</td>\n",
       "    </tr>\n",
       "    <tr>\n",
       "      <th>...</th>\n",
       "      <td>...</td>\n",
       "      <td>...</td>\n",
       "      <td>...</td>\n",
       "    </tr>\n",
       "    <tr>\n",
       "      <th>350</th>\n",
       "      <td>5.000000e+06</td>\n",
       "      <td>2.000000e-07</td>\n",
       "      <td>buy</td>\n",
       "    </tr>\n",
       "    <tr>\n",
       "      <th>351</th>\n",
       "      <td>1.010000e+07</td>\n",
       "      <td>1.000000e-07</td>\n",
       "      <td>buy</td>\n",
       "    </tr>\n",
       "    <tr>\n",
       "      <th>352</th>\n",
       "      <td>2.000000e+07</td>\n",
       "      <td>5.000000e-08</td>\n",
       "      <td>buy</td>\n",
       "    </tr>\n",
       "    <tr>\n",
       "      <th>353</th>\n",
       "      <td>5.000000e+07</td>\n",
       "      <td>2.000000e-08</td>\n",
       "      <td>buy</td>\n",
       "    </tr>\n",
       "    <tr>\n",
       "      <th>354</th>\n",
       "      <td>1.000500e+08</td>\n",
       "      <td>1.000000e-08</td>\n",
       "      <td>buy</td>\n",
       "    </tr>\n",
       "  </tbody>\n",
       "</table>\n",
       "<p>355 rows × 3 columns</p>\n",
       "</div>"
      ],
      "text/plain": [
       "         Quantity          Rate side\n",
       "0    8.700000e-03  1.178000e-02  buy\n",
       "1    1.363118e+05  1.161127e-02  buy\n",
       "2    3.155852e+03  1.161126e-02  buy\n",
       "3    5.125880e+04  1.161000e-02  buy\n",
       "4    2.291760e+02  1.160085e-02  buy\n",
       "..            ...           ...  ...\n",
       "350  5.000000e+06  2.000000e-07  buy\n",
       "351  1.010000e+07  1.000000e-07  buy\n",
       "352  2.000000e+07  5.000000e-08  buy\n",
       "353  5.000000e+07  2.000000e-08  buy\n",
       "354  1.000500e+08  1.000000e-08  buy\n",
       "\n",
       "[355 rows x 3 columns]"
      ]
     },
     "execution_count": 19,
     "metadata": {},
     "output_type": "execute_result"
    }
   ],
   "source": [
    "buys = pd.DataFrame(q.result_json['result']['buy'])\n",
    "buys = buys.assign(side='buy')\n",
    "buys"
   ]
  },
  {
   "cell_type": "code",
   "execution_count": 20,
   "id": "a5d2a60b",
   "metadata": {},
   "outputs": [
    {
     "data": {
      "text/html": [
       "<div>\n",
       "<style scoped>\n",
       "    .dataframe tbody tr th:only-of-type {\n",
       "        vertical-align: middle;\n",
       "    }\n",
       "\n",
       "    .dataframe tbody tr th {\n",
       "        vertical-align: top;\n",
       "    }\n",
       "\n",
       "    .dataframe thead th {\n",
       "        text-align: right;\n",
       "    }\n",
       "</style>\n",
       "<table border=\"1\" class=\"dataframe\">\n",
       "  <thead>\n",
       "    <tr style=\"text-align: right;\">\n",
       "      <th></th>\n",
       "      <th>Quantity</th>\n",
       "      <th>Rate</th>\n",
       "      <th>side</th>\n",
       "    </tr>\n",
       "  </thead>\n",
       "  <tbody>\n",
       "    <tr>\n",
       "      <th>0</th>\n",
       "      <td>1.0000</td>\n",
       "      <td>15242.000000</td>\n",
       "      <td>sell</td>\n",
       "    </tr>\n",
       "    <tr>\n",
       "      <th>1</th>\n",
       "      <td>1824.4804</td>\n",
       "      <td>15242.000000</td>\n",
       "      <td>sell</td>\n",
       "    </tr>\n",
       "    <tr>\n",
       "      <th>2</th>\n",
       "      <td>50.0000</td>\n",
       "      <td>4209.000000</td>\n",
       "      <td>sell</td>\n",
       "    </tr>\n",
       "    <tr>\n",
       "      <th>3</th>\n",
       "      <td>26000.0000</td>\n",
       "      <td>2600.000000</td>\n",
       "      <td>sell</td>\n",
       "    </tr>\n",
       "    <tr>\n",
       "      <th>4</th>\n",
       "      <td>15225.7341</td>\n",
       "      <td>1013.000000</td>\n",
       "      <td>sell</td>\n",
       "    </tr>\n",
       "    <tr>\n",
       "      <th>...</th>\n",
       "      <td>...</td>\n",
       "      <td>...</td>\n",
       "      <td>...</td>\n",
       "    </tr>\n",
       "    <tr>\n",
       "      <th>430</th>\n",
       "      <td>100.4445</td>\n",
       "      <td>0.012000</td>\n",
       "      <td>sell</td>\n",
       "    </tr>\n",
       "    <tr>\n",
       "      <th>431</th>\n",
       "      <td>7736.8128</td>\n",
       "      <td>0.011968</td>\n",
       "      <td>sell</td>\n",
       "    </tr>\n",
       "    <tr>\n",
       "      <th>432</th>\n",
       "      <td>8338.9928</td>\n",
       "      <td>0.011906</td>\n",
       "      <td>sell</td>\n",
       "    </tr>\n",
       "    <tr>\n",
       "      <th>433</th>\n",
       "      <td>24000.0000</td>\n",
       "      <td>0.011903</td>\n",
       "      <td>sell</td>\n",
       "    </tr>\n",
       "    <tr>\n",
       "      <th>434</th>\n",
       "      <td>250000.0000</td>\n",
       "      <td>0.011903</td>\n",
       "      <td>sell</td>\n",
       "    </tr>\n",
       "  </tbody>\n",
       "</table>\n",
       "<p>435 rows × 3 columns</p>\n",
       "</div>"
      ],
      "text/plain": [
       "        Quantity          Rate  side\n",
       "0         1.0000  15242.000000  sell\n",
       "1      1824.4804  15242.000000  sell\n",
       "2        50.0000   4209.000000  sell\n",
       "3     26000.0000   2600.000000  sell\n",
       "4     15225.7341   1013.000000  sell\n",
       "..           ...           ...   ...\n",
       "430     100.4445      0.012000  sell\n",
       "431    7736.8128      0.011968  sell\n",
       "432    8338.9928      0.011906  sell\n",
       "433   24000.0000      0.011903  sell\n",
       "434  250000.0000      0.011903  sell\n",
       "\n",
       "[435 rows x 3 columns]"
      ]
     },
     "execution_count": 20,
     "metadata": {},
     "output_type": "execute_result"
    }
   ],
   "source": [
    "sells = pd.DataFrame(q.result_json['result']['sell'])\n",
    "sells = sells.assign(side='sell')\n",
    "sells"
   ]
  },
  {
   "cell_type": "code",
   "execution_count": 50,
   "id": "da53dc21",
   "metadata": {},
   "outputs": [
    {
     "data": {
      "text/html": [
       "<div>\n",
       "<style scoped>\n",
       "    .dataframe tbody tr th:only-of-type {\n",
       "        vertical-align: middle;\n",
       "    }\n",
       "\n",
       "    .dataframe tbody tr th {\n",
       "        vertical-align: top;\n",
       "    }\n",
       "\n",
       "    .dataframe thead th {\n",
       "        text-align: right;\n",
       "    }\n",
       "</style>\n",
       "<table border=\"1\" class=\"dataframe\">\n",
       "  <thead>\n",
       "    <tr style=\"text-align: right;\">\n",
       "      <th></th>\n",
       "      <th>Quantity</th>\n",
       "      <th>Rate</th>\n",
       "      <th>side</th>\n",
       "    </tr>\n",
       "  </thead>\n",
       "  <tbody>\n",
       "    <tr>\n",
       "      <th>0</th>\n",
       "      <td>0.0087</td>\n",
       "      <td>0.011780</td>\n",
       "      <td>buy</td>\n",
       "    </tr>\n",
       "    <tr>\n",
       "      <th>1</th>\n",
       "      <td>136311.7594</td>\n",
       "      <td>0.011611</td>\n",
       "      <td>buy</td>\n",
       "    </tr>\n",
       "    <tr>\n",
       "      <th>2</th>\n",
       "      <td>3155.8519</td>\n",
       "      <td>0.011611</td>\n",
       "      <td>buy</td>\n",
       "    </tr>\n",
       "    <tr>\n",
       "      <th>3</th>\n",
       "      <td>51258.8036</td>\n",
       "      <td>0.011610</td>\n",
       "      <td>buy</td>\n",
       "    </tr>\n",
       "    <tr>\n",
       "      <th>4</th>\n",
       "      <td>229.1760</td>\n",
       "      <td>0.011601</td>\n",
       "      <td>buy</td>\n",
       "    </tr>\n",
       "    <tr>\n",
       "      <th>...</th>\n",
       "      <td>...</td>\n",
       "      <td>...</td>\n",
       "      <td>...</td>\n",
       "    </tr>\n",
       "    <tr>\n",
       "      <th>785</th>\n",
       "      <td>100.4445</td>\n",
       "      <td>0.012000</td>\n",
       "      <td>sell</td>\n",
       "    </tr>\n",
       "    <tr>\n",
       "      <th>786</th>\n",
       "      <td>7736.8128</td>\n",
       "      <td>0.011968</td>\n",
       "      <td>sell</td>\n",
       "    </tr>\n",
       "    <tr>\n",
       "      <th>787</th>\n",
       "      <td>8338.9928</td>\n",
       "      <td>0.011906</td>\n",
       "      <td>sell</td>\n",
       "    </tr>\n",
       "    <tr>\n",
       "      <th>788</th>\n",
       "      <td>24000.0000</td>\n",
       "      <td>0.011903</td>\n",
       "      <td>sell</td>\n",
       "    </tr>\n",
       "    <tr>\n",
       "      <th>789</th>\n",
       "      <td>250000.0000</td>\n",
       "      <td>0.011903</td>\n",
       "      <td>sell</td>\n",
       "    </tr>\n",
       "  </tbody>\n",
       "</table>\n",
       "<p>790 rows × 3 columns</p>\n",
       "</div>"
      ],
      "text/plain": [
       "        Quantity      Rate  side\n",
       "0         0.0087  0.011780   buy\n",
       "1    136311.7594  0.011611   buy\n",
       "2      3155.8519  0.011611   buy\n",
       "3     51258.8036  0.011610   buy\n",
       "4       229.1760  0.011601   buy\n",
       "..           ...       ...   ...\n",
       "785     100.4445  0.012000  sell\n",
       "786    7736.8128  0.011968  sell\n",
       "787    8338.9928  0.011906  sell\n",
       "788   24000.0000  0.011903  sell\n",
       "789  250000.0000  0.011903  sell\n",
       "\n",
       "[790 rows x 3 columns]"
      ]
     },
     "execution_count": 50,
     "metadata": {},
     "output_type": "execute_result"
    }
   ],
   "source": [
    "ob = pd.concat([buys,sells],axis=0,ignore_index=True)\n",
    "ob"
   ]
  },
  {
   "cell_type": "code",
   "execution_count": 51,
   "id": "50bbf7e8",
   "metadata": {},
   "outputs": [
    {
     "data": {
      "text/plain": [
       "354    1.000500e+08\n",
       "353    1.500500e+08\n",
       "352    1.700500e+08\n",
       "351    1.801500e+08\n",
       "350    1.851500e+08\n",
       "           ...     \n",
       "4      2.417779e+08\n",
       "3      2.418291e+08\n",
       "2      2.418323e+08\n",
       "1      2.419686e+08\n",
       "0      2.419686e+08\n",
       "Name: Quantity, Length: 355, dtype: float64"
      ]
     },
     "execution_count": 51,
     "metadata": {},
     "output_type": "execute_result"
    }
   ],
   "source": [
    "ob[ob[\"side\"]=='buy']['Quantity'][::-1].cumsum()"
   ]
  },
  {
   "cell_type": "code",
   "execution_count": 52,
   "id": "3a4872aa",
   "metadata": {},
   "outputs": [],
   "source": [
    "ob=ob.assign(volume=ob[\"Rate\"]*ob[\"Quantity\"])"
   ]
  },
  {
   "cell_type": "code",
   "execution_count": 57,
   "id": "4ce2bb4d",
   "metadata": {},
   "outputs": [],
   "source": [
    "ob=ob[ob.Rate < 0.03]\n",
    "ob=ob[ob.Rate > 0.003]\n",
    "c_asks = ob[ob[\"side\"]=='buy']['volume'].cumsum()\n",
    "c_bids = ob[ob[\"side\"]=='sell']['volume'][::-1].cumsum()\n",
    "cumulated = pd.concat([c_asks, c_bids])\n",
    "ob.loc[:, 'Accumulated Quantity'] = cumulated\n",
    "plot_y = 'Accumulated Quantity'"
   ]
  },
  {
   "cell_type": "code",
   "execution_count": 58,
   "id": "c19ba582",
   "metadata": {},
   "outputs": [
    {
     "data": {
      "text/html": [
       "<div>\n",
       "<style scoped>\n",
       "    .dataframe tbody tr th:only-of-type {\n",
       "        vertical-align: middle;\n",
       "    }\n",
       "\n",
       "    .dataframe tbody tr th {\n",
       "        vertical-align: top;\n",
       "    }\n",
       "\n",
       "    .dataframe thead th {\n",
       "        text-align: right;\n",
       "    }\n",
       "</style>\n",
       "<table border=\"1\" class=\"dataframe\">\n",
       "  <thead>\n",
       "    <tr style=\"text-align: right;\">\n",
       "      <th></th>\n",
       "      <th>Quantity</th>\n",
       "      <th>Rate</th>\n",
       "      <th>side</th>\n",
       "      <th>volume</th>\n",
       "      <th>Accumulated Quantity</th>\n",
       "    </tr>\n",
       "  </thead>\n",
       "  <tbody>\n",
       "    <tr>\n",
       "      <th>0</th>\n",
       "      <td>0.0087</td>\n",
       "      <td>0.011780</td>\n",
       "      <td>buy</td>\n",
       "      <td>0.000102</td>\n",
       "      <td>0.000102</td>\n",
       "    </tr>\n",
       "    <tr>\n",
       "      <th>1</th>\n",
       "      <td>136311.7594</td>\n",
       "      <td>0.011611</td>\n",
       "      <td>buy</td>\n",
       "      <td>1582.752643</td>\n",
       "      <td>1582.752745</td>\n",
       "    </tr>\n",
       "    <tr>\n",
       "      <th>2</th>\n",
       "      <td>3155.8519</td>\n",
       "      <td>0.011611</td>\n",
       "      <td>buy</td>\n",
       "      <td>36.643417</td>\n",
       "      <td>1619.396162</td>\n",
       "    </tr>\n",
       "    <tr>\n",
       "      <th>3</th>\n",
       "      <td>51258.8036</td>\n",
       "      <td>0.011610</td>\n",
       "      <td>buy</td>\n",
       "      <td>595.114710</td>\n",
       "      <td>2214.510872</td>\n",
       "    </tr>\n",
       "    <tr>\n",
       "      <th>4</th>\n",
       "      <td>229.1760</td>\n",
       "      <td>0.011601</td>\n",
       "      <td>buy</td>\n",
       "      <td>2.658636</td>\n",
       "      <td>2217.169508</td>\n",
       "    </tr>\n",
       "    <tr>\n",
       "      <th>...</th>\n",
       "      <td>...</td>\n",
       "      <td>...</td>\n",
       "      <td>...</td>\n",
       "      <td>...</td>\n",
       "      <td>...</td>\n",
       "    </tr>\n",
       "    <tr>\n",
       "      <th>785</th>\n",
       "      <td>100.4445</td>\n",
       "      <td>0.012000</td>\n",
       "      <td>sell</td>\n",
       "      <td>1.205324</td>\n",
       "      <td>3454.504815</td>\n",
       "    </tr>\n",
       "    <tr>\n",
       "      <th>786</th>\n",
       "      <td>7736.8128</td>\n",
       "      <td>0.011968</td>\n",
       "      <td>sell</td>\n",
       "      <td>92.596110</td>\n",
       "      <td>3453.299491</td>\n",
       "    </tr>\n",
       "    <tr>\n",
       "      <th>787</th>\n",
       "      <td>8338.9928</td>\n",
       "      <td>0.011906</td>\n",
       "      <td>sell</td>\n",
       "      <td>99.283881</td>\n",
       "      <td>3360.703381</td>\n",
       "    </tr>\n",
       "    <tr>\n",
       "      <th>788</th>\n",
       "      <td>24000.0000</td>\n",
       "      <td>0.011903</td>\n",
       "      <td>sell</td>\n",
       "      <td>285.672000</td>\n",
       "      <td>3261.419500</td>\n",
       "    </tr>\n",
       "    <tr>\n",
       "      <th>789</th>\n",
       "      <td>250000.0000</td>\n",
       "      <td>0.011903</td>\n",
       "      <td>sell</td>\n",
       "      <td>2975.747500</td>\n",
       "      <td>2975.747500</td>\n",
       "    </tr>\n",
       "  </tbody>\n",
       "</table>\n",
       "<p>486 rows × 5 columns</p>\n",
       "</div>"
      ],
      "text/plain": [
       "        Quantity      Rate  side       volume  Accumulated Quantity\n",
       "0         0.0087  0.011780   buy     0.000102              0.000102\n",
       "1    136311.7594  0.011611   buy  1582.752643           1582.752745\n",
       "2      3155.8519  0.011611   buy    36.643417           1619.396162\n",
       "3     51258.8036  0.011610   buy   595.114710           2214.510872\n",
       "4       229.1760  0.011601   buy     2.658636           2217.169508\n",
       "..           ...       ...   ...          ...                   ...\n",
       "785     100.4445  0.012000  sell     1.205324           3454.504815\n",
       "786    7736.8128  0.011968  sell    92.596110           3453.299491\n",
       "787    8338.9928  0.011906  sell    99.283881           3360.703381\n",
       "788   24000.0000  0.011903  sell   285.672000           3261.419500\n",
       "789  250000.0000  0.011903  sell  2975.747500           2975.747500\n",
       "\n",
       "[486 rows x 5 columns]"
      ]
     },
     "execution_count": 58,
     "metadata": {},
     "output_type": "execute_result"
    }
   ],
   "source": [
    "ob"
   ]
  },
  {
   "cell_type": "code",
   "execution_count": 64,
   "id": "f0bc5651",
   "metadata": {},
   "outputs": [],
   "source": [
    "ob=ob[ob.Rate < 0.03]\n",
    "ob=ob[ob.Rate > 0.003]"
   ]
  },
  {
   "cell_type": "code",
   "execution_count": 65,
   "id": "2623cf57",
   "metadata": {},
   "outputs": [
    {
     "data": {
      "application/vnd.plotly.v1+json": {
       "config": {
        "plotlyServerURL": "https://plot.ly"
       },
       "data": [
        {
         "fillpattern": {
          "shape": ""
         },
         "hovertemplate": "side=buy<br>Rate=%{x}<br>Accumulated Quantity=%{y}<extra></extra>",
         "legendgroup": "buy",
         "line": {
          "color": "#636efa"
         },
         "marker": {
          "symbol": "circle"
         },
         "mode": "lines",
         "name": "buy",
         "orientation": "v",
         "showlegend": true,
         "stackgroup": "1",
         "type": "scatter",
         "x": [
          0.01178,
          0.01161127,
          0.01161126,
          0.01161,
          0.01160085,
          0.0116,
          0.01151001,
          0.0115,
          0.01149904,
          0.01149655,
          0.01149654,
          0.01126,
          0.0112523,
          0.01125111,
          0.01125,
          0.0112,
          0.01117,
          0.01112959,
          0.01111113,
          0.01110001,
          0.0111,
          0.011,
          0.01085,
          0.010709,
          0.010575,
          0.01055677,
          0.01051,
          0.0105,
          0.0104,
          0.0103,
          0.01025,
          0.01011019,
          0.01011,
          0.01010004,
          0.01001,
          0.01000001,
          0.01,
          0.0099,
          0.00981,
          0.0098,
          0.00965,
          0.00951,
          0.0095,
          0.00948,
          0.00947,
          0.0094,
          0.0093553,
          0.0093,
          0.00927,
          0.00925001,
          0.00924749,
          0.00921,
          0.0092001,
          0.0092,
          0.00918,
          0.00913,
          0.009122,
          0.00912,
          0.0091,
          0.00909,
          0.00903668,
          0.009001,
          0.00900002,
          0.00900001,
          0.009,
          0.00898,
          0.00895,
          0.00893511,
          0.00891402,
          0.0089,
          0.00885,
          0.0088,
          0.00878,
          0.008757,
          0.00875001,
          0.0087,
          0.00868,
          0.0086722,
          0.00863999,
          0.00862,
          0.0086,
          0.00856929,
          0.00850001,
          0.0085,
          0.00841,
          0.0084,
          0.008388,
          0.00838,
          0.00833333,
          0.00831001,
          0.0083012,
          0.0083,
          0.00828,
          0.00827001,
          0.00825001,
          0.00824749,
          0.00821001,
          0.008201,
          0.0082001,
          0.0082,
          0.00818,
          0.00815583,
          0.00815,
          0.00812,
          0.00811001,
          0.0081,
          0.00808,
          0.00807001,
          0.00804499,
          0.00800001,
          0.008,
          0.00797001,
          0.007959,
          0.0079,
          0.00788,
          0.00787001,
          0.0078,
          0.0077914,
          0.00777001,
          0.00775001,
          0.0077,
          0.00768,
          0.00767001,
          0.0076111,
          0.0076,
          0.00757001,
          0.00751,
          0.00750001,
          0.0075,
          0.00747001,
          0.00745,
          0.0074,
          0.00737001,
          0.0073,
          0.007299,
          0.00728,
          0.00727001,
          0.007257,
          0.00725001,
          0.00722112,
          0.0072,
          0.00717001,
          0.00714,
          0.00712028,
          0.00711111,
          0.0071,
          0.00707001,
          0.00704011,
          0.007001,
          0.00700001,
          0.007,
          0.00698,
          0.00692587,
          0.0069229,
          0.0069,
          0.00688,
          0.00682001,
          0.00682,
          0.0068,
          0.006752,
          0.00675001,
          0.00675,
          0.0067,
          0.00668,
          0.00665875,
          0.00665,
          0.00664686,
          0.00661545,
          0.0066001,
          0.0066,
          0.00655,
          0.00650001,
          0.0065,
          0.00648,
          0.00645,
          0.00641,
          0.006401,
          0.0064,
          0.006388,
          0.00634,
          0.00630111,
          0.0063006,
          0.0063,
          0.006291,
          0.00628,
          0.00625405,
          0.00622112,
          0.00621,
          0.0062001,
          0.0062,
          0.00618,
          0.00615,
          0.00614,
          0.00613,
          0.00612,
          0.0061,
          0.0060672,
          0.00605,
          0.006,
          0.0059,
          0.00588,
          0.0058,
          0.00577,
          0.00574,
          0.0057,
          0.00561111,
          0.0056,
          0.00550001,
          0.0055,
          0.0054,
          0.00536698,
          0.0053,
          0.00525,
          0.00524725,
          0.0052,
          0.005188,
          0.00518,
          0.00516701,
          0.005135,
          0.00512612,
          0.00512,
          0.0051,
          0.00507501,
          0.00505111,
          0.00500001,
          0.005,
          0.0049,
          0.00488,
          0.00485,
          0.00482,
          0.0048,
          0.0047,
          0.00461626,
          0.0046,
          0.00451797,
          0.0045,
          0.00448,
          0.00445025,
          0.00444571,
          0.0044,
          0.00434571,
          0.0043,
          0.00425126,
          0.00424571,
          0.00423,
          0.0042,
          0.00412,
          0.0041,
          0.00401,
          0.004002,
          0.0040001,
          0.004,
          0.0039,
          0.00389006,
          0.00387,
          0.00380009,
          0.0037999,
          0.00375,
          0.0037231,
          0.00372,
          0.0037,
          0.00362612,
          0.00361,
          0.0036,
          0.00359876,
          0.00351,
          0.00350001,
          0.0035,
          0.0033,
          0.00325,
          0.0032,
          0.00312,
          0.00311,
          0.0031,
          0.003001
         ],
         "xaxis": "x",
         "y": [
          0.000102486,
          1582.7527450544383,
          1619.3961619868323,
          2214.5108717828325,
          2217.1695081824323,
          2249.1492651424323,
          2602.7726306275863,
          2682.834949827586,
          2686.741516386978,
          3837.6066420903235,
          3861.7953622503233,
          4441.970063468323,
          4453.399672710803,
          4462.250963702021,
          4967.788969202021,
          5046.18896920202,
          5757.74602489102,
          5777.37907796421,
          5778.966636218611,
          5828.91668121861,
          5895.34939089861,
          6809.85314369861,
          8250.71967884861,
          8270.10027232241,
          8549.95043122241,
          9145.803968631233,
          9146.035188631233,
          9406.539717181233,
          9942.891990781232,
          10620.906966791232,
          11416.131265391232,
          11435.51193547263,
          11873.72795041863,
          11940.431520360138,
          12040.531520360139,
          12236.979903808326,
          14990.651286808326,
          15090.763058788327,
          15598.735055302326,
          15616.948618922326,
          16142.746972322326,
          16143.003742322326,
          16492.494251022326,
          16895.298183546325,
          16904.775859928326,
          16935.808054548324,
          16957.426803814065,
          18909.036172954064,
          18918.306172954064,
          18923.856178954065,
          18970.06430331378,
          18971.96156331378,
          18999.56186331378,
          19662.13596779378,
          19942.56811055978,
          20043.34132917178,
          21047.88184007598,
          21093.48184007598,
          22193.95350600598,
          22546.11538811398,
          22596.11538825572,
          22600.615888255717,
          22763.08488559713,
          22768.93489209713,
          27576.25341189713,
          27832.04195803913,
          28826.276600959132,
          28827.17011195913,
          28830.22532545898,
          28999.01346945898,
          29016.71346945898,
          29017.72546945898,
          29404.53485261098,
          29840.78181633208,
          29846.90682333208,
          30058.45620342208,
          30424.16654038608,
          31643.42543433542,
          31663.50170303497,
          31698.65463712697,
          35245.25034540697,
          35247.39266790697,
          35253.76767540697,
          35909.287675406966,
          35911.39017540697,
          36533.96922396697,
          36941.11221786577,
          36983.01221786577,
          37522.57074870894,
          37524.648251208935,
          37590.23255171577,
          37591.27005171577,
          37616.11005171577,
          37621.58218418561,
          37629.83219418561,
          37674.19787672991,
          37676.25037922991,
          37682.03646028351,
          37694.63481266008,
          37875.306892760076,
          37929.846893066075,
          37932.079657554365,
          38514.61443410937,
          39288.45110076137,
          39292.50610576137,
          39522.55944484137,
          39538.71944484137,
          39542.75444984137,
          39556.28635391258,
          39566.28636641258,
          64218.583001612584,
          64220.57550411258,
          64618.52550411258,
          66516.90058223259,
          67076.81357247259,
          67078.78107497259,
          67286.39047385259,
          67290.11126159743,
          67292.05376409742,
          67303.67877909742,
          67355.46568811742,
          67401.54568811742,
          67403.46319061742,
          67456.05232277262,
          68524.20217737262,
          68527.98718237261,
          68678.18718237261,
          68691.31219987261,
          69644.57704537261,
          69646.44454787261,
          69760.86550622761,
          69761.8645062276,
          69763.70700872761,
          69900.77543609761,
          70142.8083331038,
          70171.9283331038,
          70173.7458356038,
          70719.0949956985,
          70733.5950156985,
          70739.87820752928,
          71843.98748672928,
          71845.77998922928,
          71860.19781621928,
          71866.02426586831,
          71889.17326705129,
          72417.93306018128,
          72419.70056268129,
          72434.86558196701,
          72435.60768796701,
          72453.10771296702,
          79734.89087966701,
          79859.90019129701,
          80999.06737200746,
          80999.07429490745,
          81031.40162290745,
          81045.16162290744,
          81045.1693001927,
          81045.3943601927,
          81075.1307601927,
          81087.7852640647,
          81108.0352940647,
          81114.7852940647,
          81121.8604940647,
          81135.2204940647,
          81167.27643104858,
          81194.20797677358,
          81207.50169677359,
          81212.13251177358,
          81212.44931657358,
          81888.16585169357,
          81901.78320344357,
          81927.78324344357,
          81947.08161084357,
          81960.04161084357,
          81973.79091330357,
          82020.62246047957,
          82021.19855047957,
          82165.73060871958,
          82197.99000871957,
          82299.58101927757,
          82300.21113027757,
          82332.59086254794,
          82614.10694907793,
          82614.82296427574,
          82627.38296427573,
          82632.10148864948,
          82639.67331956052,
          82776.88101595151,
          82777.65602845151,
          82833.68080201151,
          90149.72396543951,
          90184.00973450951,
          90221.16535568351,
          90235.3285852105,
          90248.5953584185,
          90552.82991699851,
          90552.83543026315,
          90567.62995203814,
          91894.69830123814,
          91969.45130123814,
          91998.85130123813,
          92126.72550377813,
          92155.57550377813,
          92167.05550377813,
          92256.75344604813,
          92258.99789004812,
          92273.75112868812,
          92333.16434651196,
          93169.17994231195,
          93406.01373577195,
          93416.74769577195,
          93421.18698796195,
          93486.76665158695,
          93489.39027658694,
          94372.43208818694,
          94382.80808818694,
          94403.52808818694,
          101336.05534099365,
          116914.21154680716,
          116924.21707485335,
          116975.41707485335,
          117740.41707485335,
          117742.19332835334,
          118921.34037037761,
          119186.95163459909,
          120642.40676059909,
          120643.41126059908,
          120664.85438856708,
          120676.43973003708,
          120799.74140275507,
          123823.56760531507,
          124195.25190692507,
          124200.17843037593,
          124844.17843037593,
          125652.4873492754,
          125843.1442263254,
          125855.6096000854,
          125875.56724063317,
          125881.11971636166,
          125980.42111328166,
          125985.9025663333,
          126031.6500251033,
          126036.5765488648,
          126042.33217896866,
          126053.28833030966,
          130152.55230554966,
          130173.15230554967,
          130485.09304014966,
          130520.98397332366,
          130564.72021771726,
          130618.40593782671,
          135287.26879102673,
          135288.26988241673,
          135342.05055437287,
          135346.69455437287,
          135361.91306056263,
          135377.1315054067,
          136004.50774253168,
          136034.77859956597,
          136048.27637032597,
          136782.34046772597,
          136787.84649234728,
          138592.84649234728,
          138628.84649234728,
          138647.63768183626,
          140402.63768183626,
          140680.35050849922,
          141396.5431559492,
          141495.5431559492,
          143120.5431559492,
          143193.48235690923,
          143209.08235690923,
          143286.83235690923,
          143348.83235690923,
          143352.83660201283
         ],
         "yaxis": "y"
        },
        {
         "fillpattern": {
          "shape": ""
         },
         "hovertemplate": "side=sell<br>Rate=%{x}<br>Accumulated Quantity=%{y}<extra></extra>",
         "legendgroup": "sell",
         "line": {
          "color": "#EF553B"
         },
         "marker": {
          "symbol": "circle"
         },
         "mode": "lines",
         "name": "sell",
         "orientation": "v",
         "showlegend": true,
         "stackgroup": "1",
         "type": "scatter",
         "x": [
          0.029998,
          0.029,
          0.0287487,
          0.0285,
          0.028,
          0.027,
          0.02671,
          0.0264724,
          0.02600942,
          0.02552,
          0.02508892,
          0.02500001,
          0.025,
          0.0249,
          0.0247996,
          0.02458566,
          0.0243,
          0.02429999,
          0.024,
          0.02398799,
          0.02365,
          0.02364,
          0.02344,
          0.0232,
          0.023,
          0.0222823,
          0.02225,
          0.0222222,
          0.022,
          0.0218,
          0.02175501,
          0.02169,
          0.021,
          0.02085855,
          0.0206434,
          0.0204724,
          0.02000001,
          0.02,
          0.0199999,
          0.01999,
          0.0199,
          0.019888,
          0.0198,
          0.01961501,
          0.01949995,
          0.019487,
          0.01936879,
          0.0191,
          0.019,
          0.0189,
          0.01888888,
          0.01877,
          0.01873429,
          0.01873,
          0.01868999,
          0.01864,
          0.01855514,
          0.0185,
          0.0184,
          0.01819,
          0.018,
          0.0179,
          0.01789,
          0.0177,
          0.01769,
          0.01761501,
          0.01755012,
          0.01755,
          0.01750001,
          0.0175,
          0.017487,
          0.01747996,
          0.01744444,
          0.0172,
          0.01713143,
          0.0171,
          0.017,
          0.0169,
          0.016815,
          0.0168,
          0.01661501,
          0.0165,
          0.01629893,
          0.0162464,
          0.0162,
          0.01613814,
          0.01610235,
          0.0161,
          0.016001,
          0.016,
          0.01595,
          0.01592,
          0.0159,
          0.01587,
          0.01585,
          0.0158,
          0.01575,
          0.0157,
          0.01569999,
          0.01569,
          0.01565,
          0.0156,
          0.0155999,
          0.01558,
          0.01555012,
          0.01555,
          0.0155,
          0.01549999,
          0.0154,
          0.01524999,
          0.0152,
          0.01512,
          0.01510739,
          0.0151,
          0.0150001,
          0.01500001,
          0.015,
          0.01499999,
          0.014998,
          0.014989,
          0.01495,
          0.01490018,
          0.0149,
          0.01487,
          0.01485,
          0.01482,
          0.0148,
          0.01479999,
          0.01479202,
          0.01475,
          0.01472,
          0.0147,
          0.01469,
          0.01465,
          0.0146,
          0.0145899,
          0.01455,
          0.014544,
          0.01452,
          0.01450113,
          0.0145,
          0.01446298,
          0.01445,
          0.0144,
          0.01439972,
          0.01438497,
          0.01438,
          0.01434,
          0.0143,
          0.01425,
          0.0142,
          0.01419,
          0.01414982,
          0.0141,
          0.014,
          0.01399999,
          0.013999,
          0.01399,
          0.01398989,
          0.013989,
          0.01398045,
          0.013975,
          0.01392973,
          0.0139,
          0.01388888,
          0.01388595,
          0.013877,
          0.01387,
          0.01385,
          0.0138,
          0.0137,
          0.013689,
          0.013678,
          0.01365501,
          0.01352,
          0.0135,
          0.0134,
          0.01339,
          0.01335,
          0.0133,
          0.0132,
          0.01319,
          0.013,
          0.01299999,
          0.01299,
          0.012983,
          0.0129,
          0.0128,
          0.0127,
          0.01269998,
          0.01269996,
          0.01269,
          0.01265,
          0.01263063,
          0.0126,
          0.0125,
          0.01249999,
          0.01249997,
          0.012496,
          0.01239641,
          0.012396,
          0.01239599,
          0.0121,
          0.01209999,
          0.012,
          0.01199994,
          0.0119999,
          0.01196825,
          0.01190598,
          0.011903,
          0.01190299
         ],
         "xaxis": "x",
         "y": [
          185733.27138589,
          185634.574201141,
          184393.43774884098,
          184292.83467455526,
          170639.25887705525,
          170418.82498505525,
          170351.32498505525,
          170156.50368739525,
          170096.70606191893,
          170083.526995171,
          170080.974995171,
          170080.38289665902,
          169580.382696659,
          166206.385241659,
          165429.306377809,
          165227.81092234812,
          165215.43183847715,
          165081.78183847715,
          165070.5456300211,
          164187.1936884211,
          164179.43897095387,
          164177.07397095388,
          164058.87397095386,
          162183.67397095385,
          162181.35397095385,
          162002.74426015385,
          161997.61543843604,
          161775.11543843604,
          161701.57424308843,
          159232.93781788842,
          159211.13781788843,
          159196.25609444984,
          159189.72965370285,
          159122.52965370283,
          159118.31752400464,
          158309.16378920944,
          158262.91950374545,
          157882.91931374546,
          152062.49749374547,
          152026.4240441136,
          152012.3779906536,
          151932.7779906536,
          151741.7736386536,
          151546.0694664736,
          87568.1169880621,
          87470.6172380621,
          87369.6697998497,
          87365.6728737772,
          85073.6728737772,
          84250.0148272772,
          83130.4503354272,
          82962.5659699872,
          82861.3752594892,
          82817.06866925949,
          78415.51866925949,
          78404.59803708052,
          78311.39803708052,
          78307.053017057,
          78297.803017057,
          78264.055945057,
          78114.622821307,
          77359.707746107,
          77329.277746107,
          77239.82774610701,
          77234.70421914701,
          77229.38580909702,
          59244.79122578871,
          59233.06984637807,
          59223.04526356307,
          58899.295078563075,
          57866.71692181307,
          57767.04102181307,
          57651.01579459763,
          57122.67522915117,
          57105.475229151176,
          57102.41979749524,
          56956.11219749524,
          56302.65117799524,
          56290.82117799524,
          56142.44745083024,
          56058.44745083024,
          45465.005021261044,
          45440.24039566104,
          45426.94367641047,
          45176.91961425527,
          45160.71961425527,
          45156.770303158795,
          45153.549833158795,
          44346.939833158794,
          42746.839833158796,
          41489.650113158794,
          41489.49061315879,
          41475.43756270279,
          41267.59347025279,
          41263.11530380579,
          41262.95680380579,
          41262.79880380579,
          41253.19130380579,
          41251.46430380579,
          41240.16031100579,
          41234.60374143779,
          41234.447241437796,
          41234.29124143779,
          41231.17126143779,
          41104.98478752179,
          41092.58088131606,
          41092.42538131606,
          40488.16634741606,
          40445.52933607383,
          40443.98933607383,
          40041.11536407866,
          39979.865597598655,
          39666.75939322265,
          39032.24901322265,
          39030.73901322265,
          39020.47604380331,
          38750.47586380331,
          34751.01913480331,
          34743.51913980331,
          34621.32951292611,
          33940.370700695006,
          33940.22120069501,
          33865.72030069501,
          33406.84507668501,
          33172.18325428101,
          32920.71994025601,
          32919.237940256004,
          32820.289386376004,
          32813.08976548062,
          32722.80351035594,
          32706.43101035594,
          32655.53309080394,
          32505.41184862394,
          32497.728460066937,
          32349.177460066938,
          32324.162574886937,
          32280.392874886937,
          32280.247374886938,
          32280.101934886938,
          32278.230665530937,
          31875.926794767212,
          31319.45710766721,
          31312.699465388356,
          30773.861215253357,
          29374.579021013356,
          29336.06232308371,
          29028.976799611668,
          29012.18095961167,
          28918.076026023668,
          28875.565259153667,
          28847.065259153667,
          28777.65235907367,
          28661.07973532367,
          28657.46005713463,
          14112.926169124634,
          12862.831131324634,
          12860.770377596602,
          12859.600829741701,
          12849.2077622677,
          12625.203231440215,
          12599.997151790214,
          12530.094901790215,
          12528.695956775215,
          11526.641512868624,
          11503.011512868625,
          11468.289312868625,
          11448.770710545665,
          11296.206169067365,
          11291.286008487365,
          10826.202731487365,
          10791.702731487365,
          10695.802731487365,
          10695.665841487365,
          10502.357032413565,
          10463.827895068447,
          9596.140607692447,
          9566.842655242446,
          9343.379585342445,
          9316.599585342445,
          9307.403149482445,
          9265.470007742444,
          8346.838241822445,
          8199.099315226445,
          7351.373004626446,
          7338.373014626446,
          7071.610915010446,
          7058.620497822546,
          7023.519477852546,
          6945.5197184925455,
          6922.847079052545,
          6918.561447941582,
          6915.8702146579335,
          6914.512384657934,
          6892.4598218179335,
          6829.306671817933,
          6702.129136297934,
          6618.329686297933,
          6545.720666885195,
          6530.606040660385,
          4254.1589631579845,
          4138.906416732306,
          4120.199072666705,
          3858.8779430857253,
          3592.2459150057252,
          3591.523614572668,
          3483.359356172668,
          3454.504815246094,
          3453.299491290544,
          3360.703381496944,
          3261.4195,
          2975.7475
         ],
         "yaxis": "y"
        }
       ],
       "layout": {
        "height": 500,
        "legend": {
         "title": {
          "text": "side"
         },
         "tracegroupgap": 0
        },
        "template": {
         "data": {
          "bar": [
           {
            "error_x": {
             "color": "#2a3f5f"
            },
            "error_y": {
             "color": "#2a3f5f"
            },
            "marker": {
             "line": {
              "color": "#E5ECF6",
              "width": 0.5
             },
             "pattern": {
              "fillmode": "overlay",
              "size": 10,
              "solidity": 0.2
             }
            },
            "type": "bar"
           }
          ],
          "barpolar": [
           {
            "marker": {
             "line": {
              "color": "#E5ECF6",
              "width": 0.5
             },
             "pattern": {
              "fillmode": "overlay",
              "size": 10,
              "solidity": 0.2
             }
            },
            "type": "barpolar"
           }
          ],
          "carpet": [
           {
            "aaxis": {
             "endlinecolor": "#2a3f5f",
             "gridcolor": "white",
             "linecolor": "white",
             "minorgridcolor": "white",
             "startlinecolor": "#2a3f5f"
            },
            "baxis": {
             "endlinecolor": "#2a3f5f",
             "gridcolor": "white",
             "linecolor": "white",
             "minorgridcolor": "white",
             "startlinecolor": "#2a3f5f"
            },
            "type": "carpet"
           }
          ],
          "choropleth": [
           {
            "colorbar": {
             "outlinewidth": 0,
             "ticks": ""
            },
            "type": "choropleth"
           }
          ],
          "contour": [
           {
            "colorbar": {
             "outlinewidth": 0,
             "ticks": ""
            },
            "colorscale": [
             [
              0,
              "#0d0887"
             ],
             [
              0.1111111111111111,
              "#46039f"
             ],
             [
              0.2222222222222222,
              "#7201a8"
             ],
             [
              0.3333333333333333,
              "#9c179e"
             ],
             [
              0.4444444444444444,
              "#bd3786"
             ],
             [
              0.5555555555555556,
              "#d8576b"
             ],
             [
              0.6666666666666666,
              "#ed7953"
             ],
             [
              0.7777777777777778,
              "#fb9f3a"
             ],
             [
              0.8888888888888888,
              "#fdca26"
             ],
             [
              1,
              "#f0f921"
             ]
            ],
            "type": "contour"
           }
          ],
          "contourcarpet": [
           {
            "colorbar": {
             "outlinewidth": 0,
             "ticks": ""
            },
            "type": "contourcarpet"
           }
          ],
          "heatmap": [
           {
            "colorbar": {
             "outlinewidth": 0,
             "ticks": ""
            },
            "colorscale": [
             [
              0,
              "#0d0887"
             ],
             [
              0.1111111111111111,
              "#46039f"
             ],
             [
              0.2222222222222222,
              "#7201a8"
             ],
             [
              0.3333333333333333,
              "#9c179e"
             ],
             [
              0.4444444444444444,
              "#bd3786"
             ],
             [
              0.5555555555555556,
              "#d8576b"
             ],
             [
              0.6666666666666666,
              "#ed7953"
             ],
             [
              0.7777777777777778,
              "#fb9f3a"
             ],
             [
              0.8888888888888888,
              "#fdca26"
             ],
             [
              1,
              "#f0f921"
             ]
            ],
            "type": "heatmap"
           }
          ],
          "heatmapgl": [
           {
            "colorbar": {
             "outlinewidth": 0,
             "ticks": ""
            },
            "colorscale": [
             [
              0,
              "#0d0887"
             ],
             [
              0.1111111111111111,
              "#46039f"
             ],
             [
              0.2222222222222222,
              "#7201a8"
             ],
             [
              0.3333333333333333,
              "#9c179e"
             ],
             [
              0.4444444444444444,
              "#bd3786"
             ],
             [
              0.5555555555555556,
              "#d8576b"
             ],
             [
              0.6666666666666666,
              "#ed7953"
             ],
             [
              0.7777777777777778,
              "#fb9f3a"
             ],
             [
              0.8888888888888888,
              "#fdca26"
             ],
             [
              1,
              "#f0f921"
             ]
            ],
            "type": "heatmapgl"
           }
          ],
          "histogram": [
           {
            "marker": {
             "pattern": {
              "fillmode": "overlay",
              "size": 10,
              "solidity": 0.2
             }
            },
            "type": "histogram"
           }
          ],
          "histogram2d": [
           {
            "colorbar": {
             "outlinewidth": 0,
             "ticks": ""
            },
            "colorscale": [
             [
              0,
              "#0d0887"
             ],
             [
              0.1111111111111111,
              "#46039f"
             ],
             [
              0.2222222222222222,
              "#7201a8"
             ],
             [
              0.3333333333333333,
              "#9c179e"
             ],
             [
              0.4444444444444444,
              "#bd3786"
             ],
             [
              0.5555555555555556,
              "#d8576b"
             ],
             [
              0.6666666666666666,
              "#ed7953"
             ],
             [
              0.7777777777777778,
              "#fb9f3a"
             ],
             [
              0.8888888888888888,
              "#fdca26"
             ],
             [
              1,
              "#f0f921"
             ]
            ],
            "type": "histogram2d"
           }
          ],
          "histogram2dcontour": [
           {
            "colorbar": {
             "outlinewidth": 0,
             "ticks": ""
            },
            "colorscale": [
             [
              0,
              "#0d0887"
             ],
             [
              0.1111111111111111,
              "#46039f"
             ],
             [
              0.2222222222222222,
              "#7201a8"
             ],
             [
              0.3333333333333333,
              "#9c179e"
             ],
             [
              0.4444444444444444,
              "#bd3786"
             ],
             [
              0.5555555555555556,
              "#d8576b"
             ],
             [
              0.6666666666666666,
              "#ed7953"
             ],
             [
              0.7777777777777778,
              "#fb9f3a"
             ],
             [
              0.8888888888888888,
              "#fdca26"
             ],
             [
              1,
              "#f0f921"
             ]
            ],
            "type": "histogram2dcontour"
           }
          ],
          "mesh3d": [
           {
            "colorbar": {
             "outlinewidth": 0,
             "ticks": ""
            },
            "type": "mesh3d"
           }
          ],
          "parcoords": [
           {
            "line": {
             "colorbar": {
              "outlinewidth": 0,
              "ticks": ""
             }
            },
            "type": "parcoords"
           }
          ],
          "pie": [
           {
            "automargin": true,
            "type": "pie"
           }
          ],
          "scatter": [
           {
            "fillpattern": {
             "fillmode": "overlay",
             "size": 10,
             "solidity": 0.2
            },
            "type": "scatter"
           }
          ],
          "scatter3d": [
           {
            "line": {
             "colorbar": {
              "outlinewidth": 0,
              "ticks": ""
             }
            },
            "marker": {
             "colorbar": {
              "outlinewidth": 0,
              "ticks": ""
             }
            },
            "type": "scatter3d"
           }
          ],
          "scattercarpet": [
           {
            "marker": {
             "colorbar": {
              "outlinewidth": 0,
              "ticks": ""
             }
            },
            "type": "scattercarpet"
           }
          ],
          "scattergeo": [
           {
            "marker": {
             "colorbar": {
              "outlinewidth": 0,
              "ticks": ""
             }
            },
            "type": "scattergeo"
           }
          ],
          "scattergl": [
           {
            "marker": {
             "colorbar": {
              "outlinewidth": 0,
              "ticks": ""
             }
            },
            "type": "scattergl"
           }
          ],
          "scattermapbox": [
           {
            "marker": {
             "colorbar": {
              "outlinewidth": 0,
              "ticks": ""
             }
            },
            "type": "scattermapbox"
           }
          ],
          "scatterpolar": [
           {
            "marker": {
             "colorbar": {
              "outlinewidth": 0,
              "ticks": ""
             }
            },
            "type": "scatterpolar"
           }
          ],
          "scatterpolargl": [
           {
            "marker": {
             "colorbar": {
              "outlinewidth": 0,
              "ticks": ""
             }
            },
            "type": "scatterpolargl"
           }
          ],
          "scatterternary": [
           {
            "marker": {
             "colorbar": {
              "outlinewidth": 0,
              "ticks": ""
             }
            },
            "type": "scatterternary"
           }
          ],
          "surface": [
           {
            "colorbar": {
             "outlinewidth": 0,
             "ticks": ""
            },
            "colorscale": [
             [
              0,
              "#0d0887"
             ],
             [
              0.1111111111111111,
              "#46039f"
             ],
             [
              0.2222222222222222,
              "#7201a8"
             ],
             [
              0.3333333333333333,
              "#9c179e"
             ],
             [
              0.4444444444444444,
              "#bd3786"
             ],
             [
              0.5555555555555556,
              "#d8576b"
             ],
             [
              0.6666666666666666,
              "#ed7953"
             ],
             [
              0.7777777777777778,
              "#fb9f3a"
             ],
             [
              0.8888888888888888,
              "#fdca26"
             ],
             [
              1,
              "#f0f921"
             ]
            ],
            "type": "surface"
           }
          ],
          "table": [
           {
            "cells": {
             "fill": {
              "color": "#EBF0F8"
             },
             "line": {
              "color": "white"
             }
            },
            "header": {
             "fill": {
              "color": "#C8D4E3"
             },
             "line": {
              "color": "white"
             }
            },
            "type": "table"
           }
          ]
         },
         "layout": {
          "annotationdefaults": {
           "arrowcolor": "#2a3f5f",
           "arrowhead": 0,
           "arrowwidth": 1
          },
          "autotypenumbers": "strict",
          "coloraxis": {
           "colorbar": {
            "outlinewidth": 0,
            "ticks": ""
           }
          },
          "colorscale": {
           "diverging": [
            [
             0,
             "#8e0152"
            ],
            [
             0.1,
             "#c51b7d"
            ],
            [
             0.2,
             "#de77ae"
            ],
            [
             0.3,
             "#f1b6da"
            ],
            [
             0.4,
             "#fde0ef"
            ],
            [
             0.5,
             "#f7f7f7"
            ],
            [
             0.6,
             "#e6f5d0"
            ],
            [
             0.7,
             "#b8e186"
            ],
            [
             0.8,
             "#7fbc41"
            ],
            [
             0.9,
             "#4d9221"
            ],
            [
             1,
             "#276419"
            ]
           ],
           "sequential": [
            [
             0,
             "#0d0887"
            ],
            [
             0.1111111111111111,
             "#46039f"
            ],
            [
             0.2222222222222222,
             "#7201a8"
            ],
            [
             0.3333333333333333,
             "#9c179e"
            ],
            [
             0.4444444444444444,
             "#bd3786"
            ],
            [
             0.5555555555555556,
             "#d8576b"
            ],
            [
             0.6666666666666666,
             "#ed7953"
            ],
            [
             0.7777777777777778,
             "#fb9f3a"
            ],
            [
             0.8888888888888888,
             "#fdca26"
            ],
            [
             1,
             "#f0f921"
            ]
           ],
           "sequentialminus": [
            [
             0,
             "#0d0887"
            ],
            [
             0.1111111111111111,
             "#46039f"
            ],
            [
             0.2222222222222222,
             "#7201a8"
            ],
            [
             0.3333333333333333,
             "#9c179e"
            ],
            [
             0.4444444444444444,
             "#bd3786"
            ],
            [
             0.5555555555555556,
             "#d8576b"
            ],
            [
             0.6666666666666666,
             "#ed7953"
            ],
            [
             0.7777777777777778,
             "#fb9f3a"
            ],
            [
             0.8888888888888888,
             "#fdca26"
            ],
            [
             1,
             "#f0f921"
            ]
           ]
          },
          "colorway": [
           "#636efa",
           "#EF553B",
           "#00cc96",
           "#ab63fa",
           "#FFA15A",
           "#19d3f3",
           "#FF6692",
           "#B6E880",
           "#FF97FF",
           "#FECB52"
          ],
          "font": {
           "color": "#2a3f5f"
          },
          "geo": {
           "bgcolor": "white",
           "lakecolor": "white",
           "landcolor": "#E5ECF6",
           "showlakes": true,
           "showland": true,
           "subunitcolor": "white"
          },
          "hoverlabel": {
           "align": "left"
          },
          "hovermode": "closest",
          "mapbox": {
           "style": "light"
          },
          "paper_bgcolor": "white",
          "plot_bgcolor": "#E5ECF6",
          "polar": {
           "angularaxis": {
            "gridcolor": "white",
            "linecolor": "white",
            "ticks": ""
           },
           "bgcolor": "#E5ECF6",
           "radialaxis": {
            "gridcolor": "white",
            "linecolor": "white",
            "ticks": ""
           }
          },
          "scene": {
           "xaxis": {
            "backgroundcolor": "#E5ECF6",
            "gridcolor": "white",
            "gridwidth": 2,
            "linecolor": "white",
            "showbackground": true,
            "ticks": "",
            "zerolinecolor": "white"
           },
           "yaxis": {
            "backgroundcolor": "#E5ECF6",
            "gridcolor": "white",
            "gridwidth": 2,
            "linecolor": "white",
            "showbackground": true,
            "ticks": "",
            "zerolinecolor": "white"
           },
           "zaxis": {
            "backgroundcolor": "#E5ECF6",
            "gridcolor": "white",
            "gridwidth": 2,
            "linecolor": "white",
            "showbackground": true,
            "ticks": "",
            "zerolinecolor": "white"
           }
          },
          "shapedefaults": {
           "line": {
            "color": "#2a3f5f"
           }
          },
          "ternary": {
           "aaxis": {
            "gridcolor": "white",
            "linecolor": "white",
            "ticks": ""
           },
           "baxis": {
            "gridcolor": "white",
            "linecolor": "white",
            "ticks": ""
           },
           "bgcolor": "#E5ECF6",
           "caxis": {
            "gridcolor": "white",
            "linecolor": "white",
            "ticks": ""
           }
          },
          "title": {
           "x": 0.05
          },
          "xaxis": {
           "automargin": true,
           "gridcolor": "white",
           "linecolor": "white",
           "ticks": "",
           "title": {
            "standoff": 15
           },
           "zerolinecolor": "white",
           "zerolinewidth": 2
          },
          "yaxis": {
           "automargin": true,
           "gridcolor": "white",
           "linecolor": "white",
           "ticks": "",
           "title": {
            "standoff": 15
           },
           "zerolinecolor": "white",
           "zerolinewidth": 2
          }
         }
        },
        "title": {
         "text": "test"
        },
        "xaxis": {
         "anchor": "y",
         "domain": [
          0,
          1
         ],
         "title": {
          "text": "Rate"
         }
        },
        "yaxis": {
         "anchor": "x",
         "domain": [
          0,
          1
         ],
         "title": {
          "text": "Accumulated Quantity"
         }
        }
       }
      },
      "text/html": [
       "<div>                            <div id=\"18e1806e-489e-4739-b8af-0f9439c07844\" class=\"plotly-graph-div\" style=\"height:500px; width:100%;\"></div>            <script type=\"text/javascript\">                require([\"plotly\"], function(Plotly) {                    window.PLOTLYENV=window.PLOTLYENV || {};                                    if (document.getElementById(\"18e1806e-489e-4739-b8af-0f9439c07844\")) {                    Plotly.newPlot(                        \"18e1806e-489e-4739-b8af-0f9439c07844\",                        [{\"fillpattern\":{\"shape\":\"\"},\"hovertemplate\":\"side=buy<br>Rate=%{x}<br>Accumulated Quantity=%{y}<extra></extra>\",\"legendgroup\":\"buy\",\"line\":{\"color\":\"#636efa\"},\"marker\":{\"symbol\":\"circle\"},\"mode\":\"lines\",\"name\":\"buy\",\"orientation\":\"v\",\"showlegend\":true,\"stackgroup\":\"1\",\"x\":[0.01178,0.01161127,0.01161126,0.01161,0.01160085,0.0116,0.01151001,0.0115,0.01149904,0.01149655,0.01149654,0.01126,0.0112523,0.01125111,0.01125,0.0112,0.01117,0.01112959,0.01111113,0.01110001,0.0111,0.011,0.01085,0.010709,0.010575,0.01055677,0.01051,0.0105,0.0104,0.0103,0.01025,0.01011019,0.01011,0.01010004,0.01001,0.01000001,0.01,0.0099,0.00981,0.0098,0.00965,0.00951,0.0095,0.00948,0.00947,0.0094,0.0093553,0.0093,0.00927,0.00925001,0.00924749,0.00921,0.0092001,0.0092,0.00918,0.00913,0.009122,0.00912,0.0091,0.00909,0.00903668,0.009001,0.00900002,0.00900001,0.009,0.00898,0.00895,0.00893511,0.00891402,0.0089,0.00885,0.0088,0.00878,0.008757,0.00875001,0.0087,0.00868,0.0086722,0.00863999,0.00862,0.0086,0.00856929,0.00850001,0.0085,0.00841,0.0084,0.008388,0.00838,0.00833333,0.00831001,0.0083012,0.0083,0.00828,0.00827001,0.00825001,0.00824749,0.00821001,0.008201,0.0082001,0.0082,0.00818,0.00815583,0.00815,0.00812,0.00811001,0.0081,0.00808,0.00807001,0.00804499,0.00800001,0.008,0.00797001,0.007959,0.0079,0.00788,0.00787001,0.0078,0.0077914,0.00777001,0.00775001,0.0077,0.00768,0.00767001,0.0076111,0.0076,0.00757001,0.00751,0.00750001,0.0075,0.00747001,0.00745,0.0074,0.00737001,0.0073,0.007299,0.00728,0.00727001,0.007257,0.00725001,0.00722112,0.0072,0.00717001,0.00714,0.00712028,0.00711111,0.0071,0.00707001,0.00704011,0.007001,0.00700001,0.007,0.00698,0.00692587,0.0069229,0.0069,0.00688,0.00682001,0.00682,0.0068,0.006752,0.00675001,0.00675,0.0067,0.00668,0.00665875,0.00665,0.00664686,0.00661545,0.0066001,0.0066,0.00655,0.00650001,0.0065,0.00648,0.00645,0.00641,0.006401,0.0064,0.006388,0.00634,0.00630111,0.0063006,0.0063,0.006291,0.00628,0.00625405,0.00622112,0.00621,0.0062001,0.0062,0.00618,0.00615,0.00614,0.00613,0.00612,0.0061,0.0060672,0.00605,0.006,0.0059,0.00588,0.0058,0.00577,0.00574,0.0057,0.00561111,0.0056,0.00550001,0.0055,0.0054,0.00536698,0.0053,0.00525,0.00524725,0.0052,0.005188,0.00518,0.00516701,0.005135,0.00512612,0.00512,0.0051,0.00507501,0.00505111,0.00500001,0.005,0.0049,0.00488,0.00485,0.00482,0.0048,0.0047,0.00461626,0.0046,0.00451797,0.0045,0.00448,0.00445025,0.00444571,0.0044,0.00434571,0.0043,0.00425126,0.00424571,0.00423,0.0042,0.00412,0.0041,0.00401,0.004002,0.0040001,0.004,0.0039,0.00389006,0.00387,0.00380009,0.0037999,0.00375,0.0037231,0.00372,0.0037,0.00362612,0.00361,0.0036,0.00359876,0.00351,0.00350001,0.0035,0.0033,0.00325,0.0032,0.00312,0.00311,0.0031,0.003001],\"xaxis\":\"x\",\"y\":[0.000102486,1582.7527450544383,1619.3961619868323,2214.5108717828325,2217.1695081824323,2249.1492651424323,2602.7726306275863,2682.834949827586,2686.741516386978,3837.6066420903235,3861.7953622503233,4441.970063468323,4453.399672710803,4462.250963702021,4967.788969202021,5046.18896920202,5757.74602489102,5777.37907796421,5778.966636218611,5828.91668121861,5895.34939089861,6809.85314369861,8250.71967884861,8270.10027232241,8549.95043122241,9145.803968631233,9146.035188631233,9406.539717181233,9942.891990781232,10620.906966791232,11416.131265391232,11435.51193547263,11873.72795041863,11940.431520360138,12040.531520360139,12236.979903808326,14990.651286808326,15090.763058788327,15598.735055302326,15616.948618922326,16142.746972322326,16143.003742322326,16492.494251022326,16895.298183546325,16904.775859928326,16935.808054548324,16957.426803814065,18909.036172954064,18918.306172954064,18923.856178954065,18970.06430331378,18971.96156331378,18999.56186331378,19662.13596779378,19942.56811055978,20043.34132917178,21047.88184007598,21093.48184007598,22193.95350600598,22546.11538811398,22596.11538825572,22600.615888255717,22763.08488559713,22768.93489209713,27576.25341189713,27832.04195803913,28826.276600959132,28827.17011195913,28830.22532545898,28999.01346945898,29016.71346945898,29017.72546945898,29404.53485261098,29840.78181633208,29846.90682333208,30058.45620342208,30424.16654038608,31643.42543433542,31663.50170303497,31698.65463712697,35245.25034540697,35247.39266790697,35253.76767540697,35909.287675406966,35911.39017540697,36533.96922396697,36941.11221786577,36983.01221786577,37522.57074870894,37524.648251208935,37590.23255171577,37591.27005171577,37616.11005171577,37621.58218418561,37629.83219418561,37674.19787672991,37676.25037922991,37682.03646028351,37694.63481266008,37875.306892760076,37929.846893066075,37932.079657554365,38514.61443410937,39288.45110076137,39292.50610576137,39522.55944484137,39538.71944484137,39542.75444984137,39556.28635391258,39566.28636641258,64218.583001612584,64220.57550411258,64618.52550411258,66516.90058223259,67076.81357247259,67078.78107497259,67286.39047385259,67290.11126159743,67292.05376409742,67303.67877909742,67355.46568811742,67401.54568811742,67403.46319061742,67456.05232277262,68524.20217737262,68527.98718237261,68678.18718237261,68691.31219987261,69644.57704537261,69646.44454787261,69760.86550622761,69761.8645062276,69763.70700872761,69900.77543609761,70142.8083331038,70171.9283331038,70173.7458356038,70719.0949956985,70733.5950156985,70739.87820752928,71843.98748672928,71845.77998922928,71860.19781621928,71866.02426586831,71889.17326705129,72417.93306018128,72419.70056268129,72434.86558196701,72435.60768796701,72453.10771296702,79734.89087966701,79859.90019129701,80999.06737200746,80999.07429490745,81031.40162290745,81045.16162290744,81045.1693001927,81045.3943601927,81075.1307601927,81087.7852640647,81108.0352940647,81114.7852940647,81121.8604940647,81135.2204940647,81167.27643104858,81194.20797677358,81207.50169677359,81212.13251177358,81212.44931657358,81888.16585169357,81901.78320344357,81927.78324344357,81947.08161084357,81960.04161084357,81973.79091330357,82020.62246047957,82021.19855047957,82165.73060871958,82197.99000871957,82299.58101927757,82300.21113027757,82332.59086254794,82614.10694907793,82614.82296427574,82627.38296427573,82632.10148864948,82639.67331956052,82776.88101595151,82777.65602845151,82833.68080201151,90149.72396543951,90184.00973450951,90221.16535568351,90235.3285852105,90248.5953584185,90552.82991699851,90552.83543026315,90567.62995203814,91894.69830123814,91969.45130123814,91998.85130123813,92126.72550377813,92155.57550377813,92167.05550377813,92256.75344604813,92258.99789004812,92273.75112868812,92333.16434651196,93169.17994231195,93406.01373577195,93416.74769577195,93421.18698796195,93486.76665158695,93489.39027658694,94372.43208818694,94382.80808818694,94403.52808818694,101336.05534099365,116914.21154680716,116924.21707485335,116975.41707485335,117740.41707485335,117742.19332835334,118921.34037037761,119186.95163459909,120642.40676059909,120643.41126059908,120664.85438856708,120676.43973003708,120799.74140275507,123823.56760531507,124195.25190692507,124200.17843037593,124844.17843037593,125652.4873492754,125843.1442263254,125855.6096000854,125875.56724063317,125881.11971636166,125980.42111328166,125985.9025663333,126031.6500251033,126036.5765488648,126042.33217896866,126053.28833030966,130152.55230554966,130173.15230554967,130485.09304014966,130520.98397332366,130564.72021771726,130618.40593782671,135287.26879102673,135288.26988241673,135342.05055437287,135346.69455437287,135361.91306056263,135377.1315054067,136004.50774253168,136034.77859956597,136048.27637032597,136782.34046772597,136787.84649234728,138592.84649234728,138628.84649234728,138647.63768183626,140402.63768183626,140680.35050849922,141396.5431559492,141495.5431559492,143120.5431559492,143193.48235690923,143209.08235690923,143286.83235690923,143348.83235690923,143352.83660201283],\"yaxis\":\"y\",\"type\":\"scatter\"},{\"fillpattern\":{\"shape\":\"\"},\"hovertemplate\":\"side=sell<br>Rate=%{x}<br>Accumulated Quantity=%{y}<extra></extra>\",\"legendgroup\":\"sell\",\"line\":{\"color\":\"#EF553B\"},\"marker\":{\"symbol\":\"circle\"},\"mode\":\"lines\",\"name\":\"sell\",\"orientation\":\"v\",\"showlegend\":true,\"stackgroup\":\"1\",\"x\":[0.029998,0.029,0.0287487,0.0285,0.028,0.027,0.02671,0.0264724,0.02600942,0.02552,0.02508892,0.02500001,0.025,0.0249,0.0247996,0.02458566,0.0243,0.02429999,0.024,0.02398799,0.02365,0.02364,0.02344,0.0232,0.023,0.0222823,0.02225,0.0222222,0.022,0.0218,0.02175501,0.02169,0.021,0.02085855,0.0206434,0.0204724,0.02000001,0.02,0.0199999,0.01999,0.0199,0.019888,0.0198,0.01961501,0.01949995,0.019487,0.01936879,0.0191,0.019,0.0189,0.01888888,0.01877,0.01873429,0.01873,0.01868999,0.01864,0.01855514,0.0185,0.0184,0.01819,0.018,0.0179,0.01789,0.0177,0.01769,0.01761501,0.01755012,0.01755,0.01750001,0.0175,0.017487,0.01747996,0.01744444,0.0172,0.01713143,0.0171,0.017,0.0169,0.016815,0.0168,0.01661501,0.0165,0.01629893,0.0162464,0.0162,0.01613814,0.01610235,0.0161,0.016001,0.016,0.01595,0.01592,0.0159,0.01587,0.01585,0.0158,0.01575,0.0157,0.01569999,0.01569,0.01565,0.0156,0.0155999,0.01558,0.01555012,0.01555,0.0155,0.01549999,0.0154,0.01524999,0.0152,0.01512,0.01510739,0.0151,0.0150001,0.01500001,0.015,0.01499999,0.014998,0.014989,0.01495,0.01490018,0.0149,0.01487,0.01485,0.01482,0.0148,0.01479999,0.01479202,0.01475,0.01472,0.0147,0.01469,0.01465,0.0146,0.0145899,0.01455,0.014544,0.01452,0.01450113,0.0145,0.01446298,0.01445,0.0144,0.01439972,0.01438497,0.01438,0.01434,0.0143,0.01425,0.0142,0.01419,0.01414982,0.0141,0.014,0.01399999,0.013999,0.01399,0.01398989,0.013989,0.01398045,0.013975,0.01392973,0.0139,0.01388888,0.01388595,0.013877,0.01387,0.01385,0.0138,0.0137,0.013689,0.013678,0.01365501,0.01352,0.0135,0.0134,0.01339,0.01335,0.0133,0.0132,0.01319,0.013,0.01299999,0.01299,0.012983,0.0129,0.0128,0.0127,0.01269998,0.01269996,0.01269,0.01265,0.01263063,0.0126,0.0125,0.01249999,0.01249997,0.012496,0.01239641,0.012396,0.01239599,0.0121,0.01209999,0.012,0.01199994,0.0119999,0.01196825,0.01190598,0.011903,0.01190299],\"xaxis\":\"x\",\"y\":[185733.27138589,185634.574201141,184393.43774884098,184292.83467455526,170639.25887705525,170418.82498505525,170351.32498505525,170156.50368739525,170096.70606191893,170083.526995171,170080.974995171,170080.38289665902,169580.382696659,166206.385241659,165429.306377809,165227.81092234812,165215.43183847715,165081.78183847715,165070.5456300211,164187.1936884211,164179.43897095387,164177.07397095388,164058.87397095386,162183.67397095385,162181.35397095385,162002.74426015385,161997.61543843604,161775.11543843604,161701.57424308843,159232.93781788842,159211.13781788843,159196.25609444984,159189.72965370285,159122.52965370283,159118.31752400464,158309.16378920944,158262.91950374545,157882.91931374546,152062.49749374547,152026.4240441136,152012.3779906536,151932.7779906536,151741.7736386536,151546.0694664736,87568.1169880621,87470.6172380621,87369.6697998497,87365.6728737772,85073.6728737772,84250.0148272772,83130.4503354272,82962.5659699872,82861.3752594892,82817.06866925949,78415.51866925949,78404.59803708052,78311.39803708052,78307.053017057,78297.803017057,78264.055945057,78114.622821307,77359.707746107,77329.277746107,77239.82774610701,77234.70421914701,77229.38580909702,59244.79122578871,59233.06984637807,59223.04526356307,58899.295078563075,57866.71692181307,57767.04102181307,57651.01579459763,57122.67522915117,57105.475229151176,57102.41979749524,56956.11219749524,56302.65117799524,56290.82117799524,56142.44745083024,56058.44745083024,45465.005021261044,45440.24039566104,45426.94367641047,45176.91961425527,45160.71961425527,45156.770303158795,45153.549833158795,44346.939833158794,42746.839833158796,41489.650113158794,41489.49061315879,41475.43756270279,41267.59347025279,41263.11530380579,41262.95680380579,41262.79880380579,41253.19130380579,41251.46430380579,41240.16031100579,41234.60374143779,41234.447241437796,41234.29124143779,41231.17126143779,41104.98478752179,41092.58088131606,41092.42538131606,40488.16634741606,40445.52933607383,40443.98933607383,40041.11536407866,39979.865597598655,39666.75939322265,39032.24901322265,39030.73901322265,39020.47604380331,38750.47586380331,34751.01913480331,34743.51913980331,34621.32951292611,33940.370700695006,33940.22120069501,33865.72030069501,33406.84507668501,33172.18325428101,32920.71994025601,32919.237940256004,32820.289386376004,32813.08976548062,32722.80351035594,32706.43101035594,32655.53309080394,32505.41184862394,32497.728460066937,32349.177460066938,32324.162574886937,32280.392874886937,32280.247374886938,32280.101934886938,32278.230665530937,31875.926794767212,31319.45710766721,31312.699465388356,30773.861215253357,29374.579021013356,29336.06232308371,29028.976799611668,29012.18095961167,28918.076026023668,28875.565259153667,28847.065259153667,28777.65235907367,28661.07973532367,28657.46005713463,14112.926169124634,12862.831131324634,12860.770377596602,12859.600829741701,12849.2077622677,12625.203231440215,12599.997151790214,12530.094901790215,12528.695956775215,11526.641512868624,11503.011512868625,11468.289312868625,11448.770710545665,11296.206169067365,11291.286008487365,10826.202731487365,10791.702731487365,10695.802731487365,10695.665841487365,10502.357032413565,10463.827895068447,9596.140607692447,9566.842655242446,9343.379585342445,9316.599585342445,9307.403149482445,9265.470007742444,8346.838241822445,8199.099315226445,7351.373004626446,7338.373014626446,7071.610915010446,7058.620497822546,7023.519477852546,6945.5197184925455,6922.847079052545,6918.561447941582,6915.8702146579335,6914.512384657934,6892.4598218179335,6829.306671817933,6702.129136297934,6618.329686297933,6545.720666885195,6530.606040660385,4254.1589631579845,4138.906416732306,4120.199072666705,3858.8779430857253,3592.2459150057252,3591.523614572668,3483.359356172668,3454.504815246094,3453.299491290544,3360.703381496944,3261.4195,2975.7475],\"yaxis\":\"y\",\"type\":\"scatter\"}],                        {\"template\":{\"data\":{\"histogram2dcontour\":[{\"type\":\"histogram2dcontour\",\"colorbar\":{\"outlinewidth\":0,\"ticks\":\"\"},\"colorscale\":[[0.0,\"#0d0887\"],[0.1111111111111111,\"#46039f\"],[0.2222222222222222,\"#7201a8\"],[0.3333333333333333,\"#9c179e\"],[0.4444444444444444,\"#bd3786\"],[0.5555555555555556,\"#d8576b\"],[0.6666666666666666,\"#ed7953\"],[0.7777777777777778,\"#fb9f3a\"],[0.8888888888888888,\"#fdca26\"],[1.0,\"#f0f921\"]]}],\"choropleth\":[{\"type\":\"choropleth\",\"colorbar\":{\"outlinewidth\":0,\"ticks\":\"\"}}],\"histogram2d\":[{\"type\":\"histogram2d\",\"colorbar\":{\"outlinewidth\":0,\"ticks\":\"\"},\"colorscale\":[[0.0,\"#0d0887\"],[0.1111111111111111,\"#46039f\"],[0.2222222222222222,\"#7201a8\"],[0.3333333333333333,\"#9c179e\"],[0.4444444444444444,\"#bd3786\"],[0.5555555555555556,\"#d8576b\"],[0.6666666666666666,\"#ed7953\"],[0.7777777777777778,\"#fb9f3a\"],[0.8888888888888888,\"#fdca26\"],[1.0,\"#f0f921\"]]}],\"heatmap\":[{\"type\":\"heatmap\",\"colorbar\":{\"outlinewidth\":0,\"ticks\":\"\"},\"colorscale\":[[0.0,\"#0d0887\"],[0.1111111111111111,\"#46039f\"],[0.2222222222222222,\"#7201a8\"],[0.3333333333333333,\"#9c179e\"],[0.4444444444444444,\"#bd3786\"],[0.5555555555555556,\"#d8576b\"],[0.6666666666666666,\"#ed7953\"],[0.7777777777777778,\"#fb9f3a\"],[0.8888888888888888,\"#fdca26\"],[1.0,\"#f0f921\"]]}],\"heatmapgl\":[{\"type\":\"heatmapgl\",\"colorbar\":{\"outlinewidth\":0,\"ticks\":\"\"},\"colorscale\":[[0.0,\"#0d0887\"],[0.1111111111111111,\"#46039f\"],[0.2222222222222222,\"#7201a8\"],[0.3333333333333333,\"#9c179e\"],[0.4444444444444444,\"#bd3786\"],[0.5555555555555556,\"#d8576b\"],[0.6666666666666666,\"#ed7953\"],[0.7777777777777778,\"#fb9f3a\"],[0.8888888888888888,\"#fdca26\"],[1.0,\"#f0f921\"]]}],\"contourcarpet\":[{\"type\":\"contourcarpet\",\"colorbar\":{\"outlinewidth\":0,\"ticks\":\"\"}}],\"contour\":[{\"type\":\"contour\",\"colorbar\":{\"outlinewidth\":0,\"ticks\":\"\"},\"colorscale\":[[0.0,\"#0d0887\"],[0.1111111111111111,\"#46039f\"],[0.2222222222222222,\"#7201a8\"],[0.3333333333333333,\"#9c179e\"],[0.4444444444444444,\"#bd3786\"],[0.5555555555555556,\"#d8576b\"],[0.6666666666666666,\"#ed7953\"],[0.7777777777777778,\"#fb9f3a\"],[0.8888888888888888,\"#fdca26\"],[1.0,\"#f0f921\"]]}],\"surface\":[{\"type\":\"surface\",\"colorbar\":{\"outlinewidth\":0,\"ticks\":\"\"},\"colorscale\":[[0.0,\"#0d0887\"],[0.1111111111111111,\"#46039f\"],[0.2222222222222222,\"#7201a8\"],[0.3333333333333333,\"#9c179e\"],[0.4444444444444444,\"#bd3786\"],[0.5555555555555556,\"#d8576b\"],[0.6666666666666666,\"#ed7953\"],[0.7777777777777778,\"#fb9f3a\"],[0.8888888888888888,\"#fdca26\"],[1.0,\"#f0f921\"]]}],\"mesh3d\":[{\"type\":\"mesh3d\",\"colorbar\":{\"outlinewidth\":0,\"ticks\":\"\"}}],\"scatter\":[{\"fillpattern\":{\"fillmode\":\"overlay\",\"size\":10,\"solidity\":0.2},\"type\":\"scatter\"}],\"parcoords\":[{\"type\":\"parcoords\",\"line\":{\"colorbar\":{\"outlinewidth\":0,\"ticks\":\"\"}}}],\"scatterpolargl\":[{\"type\":\"scatterpolargl\",\"marker\":{\"colorbar\":{\"outlinewidth\":0,\"ticks\":\"\"}}}],\"bar\":[{\"error_x\":{\"color\":\"#2a3f5f\"},\"error_y\":{\"color\":\"#2a3f5f\"},\"marker\":{\"line\":{\"color\":\"#E5ECF6\",\"width\":0.5},\"pattern\":{\"fillmode\":\"overlay\",\"size\":10,\"solidity\":0.2}},\"type\":\"bar\"}],\"scattergeo\":[{\"type\":\"scattergeo\",\"marker\":{\"colorbar\":{\"outlinewidth\":0,\"ticks\":\"\"}}}],\"scatterpolar\":[{\"type\":\"scatterpolar\",\"marker\":{\"colorbar\":{\"outlinewidth\":0,\"ticks\":\"\"}}}],\"histogram\":[{\"marker\":{\"pattern\":{\"fillmode\":\"overlay\",\"size\":10,\"solidity\":0.2}},\"type\":\"histogram\"}],\"scattergl\":[{\"type\":\"scattergl\",\"marker\":{\"colorbar\":{\"outlinewidth\":0,\"ticks\":\"\"}}}],\"scatter3d\":[{\"type\":\"scatter3d\",\"line\":{\"colorbar\":{\"outlinewidth\":0,\"ticks\":\"\"}},\"marker\":{\"colorbar\":{\"outlinewidth\":0,\"ticks\":\"\"}}}],\"scattermapbox\":[{\"type\":\"scattermapbox\",\"marker\":{\"colorbar\":{\"outlinewidth\":0,\"ticks\":\"\"}}}],\"scatterternary\":[{\"type\":\"scatterternary\",\"marker\":{\"colorbar\":{\"outlinewidth\":0,\"ticks\":\"\"}}}],\"scattercarpet\":[{\"type\":\"scattercarpet\",\"marker\":{\"colorbar\":{\"outlinewidth\":0,\"ticks\":\"\"}}}],\"carpet\":[{\"aaxis\":{\"endlinecolor\":\"#2a3f5f\",\"gridcolor\":\"white\",\"linecolor\":\"white\",\"minorgridcolor\":\"white\",\"startlinecolor\":\"#2a3f5f\"},\"baxis\":{\"endlinecolor\":\"#2a3f5f\",\"gridcolor\":\"white\",\"linecolor\":\"white\",\"minorgridcolor\":\"white\",\"startlinecolor\":\"#2a3f5f\"},\"type\":\"carpet\"}],\"table\":[{\"cells\":{\"fill\":{\"color\":\"#EBF0F8\"},\"line\":{\"color\":\"white\"}},\"header\":{\"fill\":{\"color\":\"#C8D4E3\"},\"line\":{\"color\":\"white\"}},\"type\":\"table\"}],\"barpolar\":[{\"marker\":{\"line\":{\"color\":\"#E5ECF6\",\"width\":0.5},\"pattern\":{\"fillmode\":\"overlay\",\"size\":10,\"solidity\":0.2}},\"type\":\"barpolar\"}],\"pie\":[{\"automargin\":true,\"type\":\"pie\"}]},\"layout\":{\"autotypenumbers\":\"strict\",\"colorway\":[\"#636efa\",\"#EF553B\",\"#00cc96\",\"#ab63fa\",\"#FFA15A\",\"#19d3f3\",\"#FF6692\",\"#B6E880\",\"#FF97FF\",\"#FECB52\"],\"font\":{\"color\":\"#2a3f5f\"},\"hovermode\":\"closest\",\"hoverlabel\":{\"align\":\"left\"},\"paper_bgcolor\":\"white\",\"plot_bgcolor\":\"#E5ECF6\",\"polar\":{\"bgcolor\":\"#E5ECF6\",\"angularaxis\":{\"gridcolor\":\"white\",\"linecolor\":\"white\",\"ticks\":\"\"},\"radialaxis\":{\"gridcolor\":\"white\",\"linecolor\":\"white\",\"ticks\":\"\"}},\"ternary\":{\"bgcolor\":\"#E5ECF6\",\"aaxis\":{\"gridcolor\":\"white\",\"linecolor\":\"white\",\"ticks\":\"\"},\"baxis\":{\"gridcolor\":\"white\",\"linecolor\":\"white\",\"ticks\":\"\"},\"caxis\":{\"gridcolor\":\"white\",\"linecolor\":\"white\",\"ticks\":\"\"}},\"coloraxis\":{\"colorbar\":{\"outlinewidth\":0,\"ticks\":\"\"}},\"colorscale\":{\"sequential\":[[0.0,\"#0d0887\"],[0.1111111111111111,\"#46039f\"],[0.2222222222222222,\"#7201a8\"],[0.3333333333333333,\"#9c179e\"],[0.4444444444444444,\"#bd3786\"],[0.5555555555555556,\"#d8576b\"],[0.6666666666666666,\"#ed7953\"],[0.7777777777777778,\"#fb9f3a\"],[0.8888888888888888,\"#fdca26\"],[1.0,\"#f0f921\"]],\"sequentialminus\":[[0.0,\"#0d0887\"],[0.1111111111111111,\"#46039f\"],[0.2222222222222222,\"#7201a8\"],[0.3333333333333333,\"#9c179e\"],[0.4444444444444444,\"#bd3786\"],[0.5555555555555556,\"#d8576b\"],[0.6666666666666666,\"#ed7953\"],[0.7777777777777778,\"#fb9f3a\"],[0.8888888888888888,\"#fdca26\"],[1.0,\"#f0f921\"]],\"diverging\":[[0,\"#8e0152\"],[0.1,\"#c51b7d\"],[0.2,\"#de77ae\"],[0.3,\"#f1b6da\"],[0.4,\"#fde0ef\"],[0.5,\"#f7f7f7\"],[0.6,\"#e6f5d0\"],[0.7,\"#b8e186\"],[0.8,\"#7fbc41\"],[0.9,\"#4d9221\"],[1,\"#276419\"]]},\"xaxis\":{\"gridcolor\":\"white\",\"linecolor\":\"white\",\"ticks\":\"\",\"title\":{\"standoff\":15},\"zerolinecolor\":\"white\",\"automargin\":true,\"zerolinewidth\":2},\"yaxis\":{\"gridcolor\":\"white\",\"linecolor\":\"white\",\"ticks\":\"\",\"title\":{\"standoff\":15},\"zerolinecolor\":\"white\",\"automargin\":true,\"zerolinewidth\":2},\"scene\":{\"xaxis\":{\"backgroundcolor\":\"#E5ECF6\",\"gridcolor\":\"white\",\"linecolor\":\"white\",\"showbackground\":true,\"ticks\":\"\",\"zerolinecolor\":\"white\",\"gridwidth\":2},\"yaxis\":{\"backgroundcolor\":\"#E5ECF6\",\"gridcolor\":\"white\",\"linecolor\":\"white\",\"showbackground\":true,\"ticks\":\"\",\"zerolinecolor\":\"white\",\"gridwidth\":2},\"zaxis\":{\"backgroundcolor\":\"#E5ECF6\",\"gridcolor\":\"white\",\"linecolor\":\"white\",\"showbackground\":true,\"ticks\":\"\",\"zerolinecolor\":\"white\",\"gridwidth\":2}},\"shapedefaults\":{\"line\":{\"color\":\"#2a3f5f\"}},\"annotationdefaults\":{\"arrowcolor\":\"#2a3f5f\",\"arrowhead\":0,\"arrowwidth\":1},\"geo\":{\"bgcolor\":\"white\",\"landcolor\":\"#E5ECF6\",\"subunitcolor\":\"white\",\"showland\":true,\"showlakes\":true,\"lakecolor\":\"white\"},\"title\":{\"x\":0.05},\"mapbox\":{\"style\":\"light\"}}},\"xaxis\":{\"anchor\":\"y\",\"domain\":[0.0,1.0],\"title\":{\"text\":\"Rate\"}},\"yaxis\":{\"anchor\":\"x\",\"domain\":[0.0,1.0],\"title\":{\"text\":\"Accumulated Quantity\"}},\"legend\":{\"title\":{\"text\":\"side\"},\"tracegroupgap\":0},\"title\":{\"text\":\"test\"},\"height\":500},                        {\"responsive\": true}                    ).then(function(){\n",
       "                            \n",
       "var gd = document.getElementById('18e1806e-489e-4739-b8af-0f9439c07844');\n",
       "var x = new MutationObserver(function (mutations, observer) {{\n",
       "        var display = window.getComputedStyle(gd).display;\n",
       "        if (!display || display === 'none') {{\n",
       "            console.log([gd, 'removed!']);\n",
       "            Plotly.purge(gd);\n",
       "            observer.disconnect();\n",
       "        }}\n",
       "}});\n",
       "\n",
       "// Listen for the removal of the full notebook cells\n",
       "var notebookContainer = gd.closest('#notebook-container');\n",
       "if (notebookContainer) {{\n",
       "    x.observe(notebookContainer, {childList: true});\n",
       "}}\n",
       "\n",
       "// Listen for the clearing of the current output cell\n",
       "var outputEl = gd.closest('.output');\n",
       "if (outputEl) {{\n",
       "    x.observe(outputEl, {childList: true});\n",
       "}}\n",
       "\n",
       "                        })                };                });            </script>        </div>"
      ]
     },
     "metadata": {},
     "output_type": "display_data"
    }
   ],
   "source": [
    "fig = px.area(ob, x=\"Rate\", y='Accumulated Quantity', color='side',height=500, title='test')\n",
    "fig.show()"
   ]
  },
  {
   "cell_type": "code",
   "execution_count": null,
   "id": "5febbd0f",
   "metadata": {},
   "outputs": [],
   "source": []
  }
 ],
 "metadata": {
  "kernelspec": {
   "display_name": "Python 3 (ipykernel)",
   "language": "python",
   "name": "python3"
  },
  "language_info": {
   "codemirror_mode": {
    "name": "ipython",
    "version": 3
   },
   "file_extension": ".py",
   "mimetype": "text/x-python",
   "name": "python",
   "nbconvert_exporter": "python",
   "pygments_lexer": "ipython3",
   "version": "3.10.9"
  }
 },
 "nbformat": 4,
 "nbformat_minor": 5
}
